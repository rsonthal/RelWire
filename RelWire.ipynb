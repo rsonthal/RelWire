{
  "cells": [
    {
      "cell_type": "code",
      "execution_count": null,
      "metadata": {
        "colab": {
          "base_uri": "https://localhost:8080/"
        },
        "id": "iuGDbvrhAiOr",
        "outputId": "d91799c4-3973-4561-a336-310752d516e7"
      },
      "outputs": [
        {
          "output_type": "stream",
          "name": "stdout",
          "text": [
            "Mounted at /content/drive\n"
          ]
        }
      ],
      "source": [
        "from google.colab import drive\n",
        "drive.mount('/content/drive')\n",
        "\n",
        "%load_ext autoreload\n",
        "%autoreload 2"
      ]
    },
    {
      "cell_type": "code",
      "execution_count": null,
      "metadata": {
        "id": "VUWLCTQNAjrh"
      },
      "outputs": [],
      "source": [
        "import torch\n",
        "TORCH = torch.__version__.split('+')[0]\n",
        "CUDA = 'cu' + torch.version.cuda.replace('.','')\n",
        "\n",
        "import pickle\n",
        "import os"
      ]
    },
    {
      "cell_type": "code",
      "execution_count": null,
      "metadata": {
        "id": "OqFVr82cBixG"
      },
      "outputs": [],
      "source": [
        "%%capture\n",
        "!pip install torch-scatter     -f https://pytorch-geometric.com/whl/torch-{TORCH}+{CUDA}.html\n",
        "!pip install torch-sparse      -f https://pytorch-geometric.com/whl/torch-{TORCH}+{CUDA}.html\n",
        "!pip install torch-cluster     -f https://pytorch-geometric.com/whl/torch-{TORCH}+{CUDA}.html\n",
        "!pip install torch-spline-conv -f https://pytorch-geometric.com/whl/torch-{TORCH}+{CUDA}.html\n",
        "!pip install torch-geometric\n",
        "!pip install node2vec\n",
        "!pip install 'scipy>=1.8'\n",
        "!pip install mycolorpy\n",
        "!git clone https://github.com/ellisalicante/GraphRewiring-Tutorialz\n",
        "!cd GraphRewiring-Tutorial && git submodule update --init --recursive\n",
        "!mv GraphRewiring-Tutorial/* ./\n",
        "!rm -rf GraphRewiring-Tutorial\n",
        "!pip install Cython\n",
        "!pip install Ripser\n",
        "!pip install -U giotto-tda\n",
        "!pip install rdkit"
      ]
    },
    {
      "cell_type": "code",
      "execution_count": null,
      "metadata": {
        "id": "uRyHFBSDBjXI"
      },
      "outputs": [],
      "source": [
        "import torch_geometric\n",
        "import torch_geometric.nn as geom_nn\n",
        "import torch_geometric.data as geom_data\n",
        "from torch_geometric.loader import DataLoader\n",
        "from torch_geometric.data import InMemoryDataset\n",
        "from torch_geometric.data import Data\n",
        "\n",
        "import torchvision\n",
        "import numpy as np\n",
        "import matplotlib.pyplot as plt\n",
        "import networkx as nx\n",
        "\n",
        "from scipy.linalg import fractional_matrix_power\n",
        "from scipy.spatial.distance import pdist\n",
        "from scipy.spatial.distance import squareform\n",
        "\n",
        "import matplotlib.pyplot as plt\n",
        "import matplotlib as matplotlib\n",
        "import matplotlib.cm as cm\n",
        "from mycolorpy import colorlist as mcp\n",
        "\n",
        "from tqdm import tqdm\n",
        "\n",
        "from ripser import ripser\n",
        "from persim import plot_diagrams\n",
        "import persim\n",
        "import copy\n",
        "\n",
        "from gtda.homology import VietorisRipsPersistence,SparseRipsPersistence\n",
        "from gtda.diagrams import PairwiseDistance\n",
        "\n",
        "\n",
        "import math\n",
        "from numba import cuda\n",
        "import numpy as np\n",
        "import torch\n",
        "from torch_geometric.utils import (\n",
        "    to_networkx,\n",
        "    from_networkx,\n",
        "    to_dense_adj,\n",
        "    remove_self_loops,\n",
        "    to_undirected,\n",
        ")"
      ]
    },
    {
      "cell_type": "code",
      "execution_count": null,
      "metadata": {
        "id": "-5KBsHAPBlIY"
      },
      "outputs": [],
      "source": [
        "import sys\n",
        "import os\n",
        "sys.path.insert(0, \"/content/drive/MyDrive/CubeRep-Rewiring/src\")"
      ]
    },
    {
      "cell_type": "code",
      "execution_count": null,
      "metadata": {
        "id": "QswWGT9ZGM_D"
      },
      "outputs": [],
      "source": [
        "%%capture\n",
        "!pip install POT\n",
        "\n",
        "from fosr import *\n",
        "from gtr import *\n",
        "from relwire import *\n",
        "from sdrf import *\n",
        "from tmd import *\n",
        "from utils import *"
      ]
    },
    {
      "cell_type": "markdown",
      "metadata": {
        "id": "EmE8tRY3B-M8"
      },
      "source": [
        "### Load Data"
      ]
    },
    {
      "cell_type": "code",
      "execution_count": null,
      "metadata": {
        "id": "5NF_CPGlB_hF"
      },
      "outputs": [],
      "source": [
        "## Standard version for everyone\n",
        "# dataset = torch_geometric.datasets.TUDataset(root=\"data/\",name = \"IMDB-BINARY\")\n",
        "dataset = torch_geometric.datasets.TUDataset(root=\"data/\",name = \"COLLAB\")\n",
        "# dataset = torch_geometric.datasets.TUDataset(root=\"data/\",name = \"REDDIT-BINARY\")\n",
        "# dataset = torch_geometric.datasets.TUDataset(root=\"data/\",name = \"PROTEINS\")\n",
        "# dataset = torch_geometric.datasets.TUDataset(root=\"data/\",name = \"MUTAG\")\n",
        "# dataset = torch_geometric.datasets.TUDataset(root=\"data/\",name = \"ENZYMES\")\n",
        "\n",
        "# dataset = torch_geometric.datasets.MoleculeNet(root=\"data/\",name = \"BACE\")\n",
        "# dataset = torch_geometric.datasets.MoleculeNet(root=\"data/\",name = \"ESOL\")\n",
        "# dataset = torch_geometric.datasets.MoleculeNet(root=\"data/\",name = \"Lipo\")\n",
        "\n",
        "# dataset = torch_geometric.datasets.ZINC(root=\"data/\", subset = True)\n",
        "\n",
        "\n",
        "# dataset = torch_geometric.datasets.LRGBDataset(root=\"data/\",name = \"PascalVOC-SP\")\n",
        "# dataset = torch_geometric.datasets.LRGBDataset(root=\"data/\",name = \"COCO-SP\")\n",
        "# dataset = torch_geometric.datasets.LRGBDataset(root=\"data/\",name = \"PCQM-Contact)\n",
        "# dataset = torch_geometric.datasets.LRGBDataset(root=\"data/\",name = \"Peptides-func\")\n",
        "# dataset = torch_geometric.datasets.LRGBDataset(root=\"data/\",name = \"Peptides-struct\")"
      ]
    },
    {
      "cell_type": "code",
      "execution_count": null,
      "metadata": {
        "colab": {
          "base_uri": "https://localhost:8080/"
        },
        "id": "-W_Dut6LOodE",
        "outputId": "1dd5ff8d-ac80-44b7-b68e-da1148bec4ca"
      },
      "outputs": [
        {
          "name": "stderr",
          "output_type": "stream",
          "text": [
            "100%|██████████| 1000/1000 [00:00<00:00, 12325.20it/s]\n"
          ]
        }
      ],
      "source": [
        "# Gs = []\n",
        "# for i in tqdm(range(len(dataset))):\n",
        "#   Gs.append(dataset[i].edge_index)\n",
        "\n",
        "# # with open('/content/drive/MyDrive/CubeRep-Rewiring/data/collab-edge-index.pkl', \"wb\") as f:\n",
        "# #   pickle.dump(Gs,f,protocol=pickle.HIGHEST_PROTOCOL)\n",
        "\n",
        "# torch.save(Gs, '/content/drive/MyDrive/CubeRep-Rewiring/data/imdb-binary-edge-index.pt')"
      ]
    },
    {
      "cell_type": "code",
      "execution_count": null,
      "metadata": {
        "colab": {
          "base_uri": "https://localhost:8080/"
        },
        "id": "M6eOtwDLCQU6",
        "outputId": "7762ad9b-0cb2-4e1a-8922-9ce93e4fd7d5"
      },
      "outputs": [
        {
          "name": "stderr",
          "output_type": "stream",
          "text": [
            "/usr/local/lib/python3.10/dist-packages/torch_geometric/data/dataset.py:214: UserWarning: The `pre_transform` argument differs from the one used in the pre-processed version of this dataset. If you want to make use of another pre-processing technique, make sure to delete 'data/IMDB-BINARY/processed' first\n",
            "  warnings.warn(\n"
          ]
        }
      ],
      "source": [
        "## GTR Version\n",
        "import torch_geometric.transforms as T\n",
        "pre_transform = T.Compose([PrecomputeGTREdges(num_edges=20)])\n",
        "transform = T.Compose([AddPrecomputedGTREdges(num_edges=20)])\n",
        "dataset_gtr = torch_geometric.datasets.TUDataset(root=\"data/\",name = \"IMDB-BINARY\", transform = transform, pre_transform=pre_transform)"
      ]
    },
    {
      "cell_type": "code",
      "execution_count": null,
      "metadata": {
        "colab": {
          "base_uri": "https://localhost:8080/"
        },
        "id": "b9bL9n1nHFAC",
        "outputId": "74a63e94-5e64-46da-a07d-31f5243ee8c0"
      },
      "outputs": [
        {
          "output_type": "stream",
          "name": "stdout",
          "text": [
            "\n",
            "Dataset: COLLAB(5000):\n",
            "====================\n",
            "Number of graphs: 5000\n",
            "Number of features: 0\n",
            "Number of classes: 3\n",
            "\n",
            "Data(edge_index=[2, 1980], y=[1], num_nodes=45)\n",
            "=============================================================\n",
            "Number of nodes: 45\n",
            "Number of edges: 1980\n",
            "Average node degree: 44.00\n",
            "Has isolated nodes: False\n",
            "Has self-loops: False\n",
            "Is undirected: True\n"
          ]
        }
      ],
      "source": [
        "print()\n",
        "print(f'Dataset: {dataset}:')\n",
        "print('====================')\n",
        "print(f'Number of graphs: {len(dataset)}')\n",
        "print(f'Number of features: {dataset.num_features}')\n",
        "print(f'Number of classes: {dataset.num_classes}')\n",
        "\n",
        "data = dataset[0]  # Get the first graph object.\n",
        "\n",
        "print()\n",
        "print(data)\n",
        "print('=============================================================')\n",
        "\n",
        "# Gather some statistics about the first graph.\n",
        "print(f'Number of nodes: {data.num_nodes}')\n",
        "print(f'Number of edges: {data.num_edges}')\n",
        "print(f'Average node degree: {data.num_edges / data.num_nodes:.2f}')\n",
        "print(f'Has isolated nodes: {data.has_isolated_nodes()}')\n",
        "print(f'Has self-loops: {data.has_self_loops()}')\n",
        "print(f'Is undirected: {data.is_undirected()}')"
      ]
    },
    {
      "cell_type": "code",
      "execution_count": null,
      "metadata": {
        "id": "afaID_koHVQP"
      },
      "outputs": [],
      "source": [
        "def rewire(dataset, rewiring, k):\n",
        "  N = len(dataset)\n",
        "  dataset_new = []\n",
        "  for i in tqdm(range(N)):\n",
        "    data = dataset[i]\n",
        "    G = nx.from_numpy_array(to_dense_adj(data.edge_index)[0].numpy())\n",
        "    empty = False\n",
        "    if G.number_of_edges() < 0.5:\n",
        "      empty = True\n",
        "    elif rewiring == \"HHS\":\n",
        "      A, edge_to_index, L, D = create_views(G)\n",
        "      sorted_counts = get_sorted_counts(G,k,A,edge_to_index,L,D,dist=True)\n",
        "      G2 = rewire_hhs(copy.deepcopy(G),k,A,edge_to_index,L,D,sorted_counts,True)\n",
        "    elif rewiring == \"sdrf\":\n",
        "      G2 = sdrf(copy.deepcopy(G),loops=k)\n",
        "    else:\n",
        "      # G2 = fosr(copy.deepcopy(G),r=50, k=k)\n",
        "      edge_index,_,_ = edge_rewire(copy.deepcopy(data.edge_index.numpy()),initial_power_iters=50, num_iterations=k)\n",
        "      G2 = nx.from_numpy_array(to_dense_adj(torch.tensor(edge_index))[0].numpy())\n",
        "\n",
        "    if not empty:\n",
        "      data.rewired_edge_index = torch.tensor(nx.adjacency_matrix(G2).toarray()).to(torch.float).nonzero().t().contiguous()\n",
        "    else:\n",
        "      data.rewired_edge_index = data.edge_index\n",
        "\n",
        "    dataset_new.append(data)\n",
        "  return dataset_new\n",
        "\n",
        "def merge_datasets(data_x, data_edge):\n",
        "  dataset_new = []\n",
        "  N = len(data_x)\n",
        "  for i in tqdm(range(N)):\n",
        "    data = data_x[i]\n",
        "    data.rewired_edge_index = data_edge[i].rewired_edge_index\n",
        "    dataset_new.append(data)\n",
        "  return dataset_new\n",
        "\n",
        "def merge_datasets_from_adj(data_x, data_edge):\n",
        "  dataset_new = []\n",
        "  N = len(data_x)\n",
        "  for i in tqdm(range(N)):\n",
        "    data = data_x[i]\n",
        "    data.rewired_edge_index = adj_to_edge(data_edge[i])\n",
        "    dataset_new.append(data)\n",
        "  return dataset_new\n",
        "\n",
        "class RewiredDataset(InMemoryDataset):\n",
        "  def __init__(self, dataset, rewiring, k, merge = False, data_edge = None):\n",
        "    super(RewiredDataset, self).__init__('.', None, None, None)\n",
        "    if merge:\n",
        "      self.dataset_rewired = merge_datasets(dataset, data_edge)\n",
        "    else:\n",
        "      self.dataset_rewired = rewire(dataset, rewiring, k)\n",
        "\n",
        "  def get(self, idx):\n",
        "    return self.dataset_rewired[idx]\n",
        "\n",
        "  def len(self):\n",
        "    return len(self.dataset_rewired)\n",
        "\n",
        "  def _download(self):\n",
        "    return\n",
        "\n",
        "  def _process(self):\n",
        "      return\n",
        "\n",
        "  def __repr__(self):\n",
        "      return '{}()'.format(self.__class__.__name__)"
      ]
    },
    {
      "cell_type": "code",
      "execution_count": null,
      "metadata": {
        "colab": {
          "base_uri": "https://localhost:8080/",
          "height": 351
        },
        "id": "UIPOv3pDHp8u",
        "outputId": "7b4f4440-5e77-4bf5-ed4b-a1102e40be90"
      },
      "outputs": [
        {
          "name": "stderr",
          "output_type": "stream",
          "text": [
            "  0%|          | 0/10873 [00:24<?, ?it/s]\n"
          ]
        },
        {
          "ename": "KeyboardInterrupt",
          "evalue": "",
          "output_type": "error",
          "traceback": [
            "\u001b[0;31m---------------------------------------------------------------------------\u001b[0m",
            "\u001b[0;31mKeyboardInterrupt\u001b[0m                         Traceback (most recent call last)",
            "\u001b[0;32m<ipython-input-18-3ab463db541a>\u001b[0m in \u001b[0;36m<cell line: 1>\u001b[0;34m()\u001b[0m\n\u001b[0;32m----> 1\u001b[0;31m \u001b[0mhhs_dataset\u001b[0m \u001b[0;34m=\u001b[0m \u001b[0mRewiredDataset\u001b[0m\u001b[0;34m(\u001b[0m\u001b[0mdataset\u001b[0m\u001b[0;34m,\u001b[0m \u001b[0;34m\"HHS\"\u001b[0m\u001b[0;34m,\u001b[0m \u001b[0;36m5\u001b[0m\u001b[0;34m)\u001b[0m\u001b[0;34m\u001b[0m\u001b[0;34m\u001b[0m\u001b[0m\n\u001b[0m\u001b[1;32m      2\u001b[0m \u001b[0mtorch\u001b[0m\u001b[0;34m.\u001b[0m\u001b[0msave\u001b[0m\u001b[0;34m(\u001b[0m\u001b[0mhhs_dataset\u001b[0m\u001b[0;34m,\u001b[0m \u001b[0;34m\"/content/drive/MyDrive/CubeRep-Rewiring/data/imdb-binary-hhs.pt\"\u001b[0m\u001b[0;34m)\u001b[0m\u001b[0;34m\u001b[0m\u001b[0;34m\u001b[0m\u001b[0m\n",
            "\u001b[0;32m<ipython-input-17-419745086e98>\u001b[0m in \u001b[0;36m__init__\u001b[0;34m(self, dataset, rewiring, k, merge, data_edge)\u001b[0m\n\u001b[1;32m     51\u001b[0m       \u001b[0mself\u001b[0m\u001b[0;34m.\u001b[0m\u001b[0mdataset_rewired\u001b[0m \u001b[0;34m=\u001b[0m \u001b[0mmerge_datasets\u001b[0m\u001b[0;34m(\u001b[0m\u001b[0mdataset\u001b[0m\u001b[0;34m,\u001b[0m \u001b[0mdata_edge\u001b[0m\u001b[0;34m)\u001b[0m\u001b[0;34m\u001b[0m\u001b[0;34m\u001b[0m\u001b[0m\n\u001b[1;32m     52\u001b[0m     \u001b[0;32melse\u001b[0m\u001b[0;34m:\u001b[0m\u001b[0;34m\u001b[0m\u001b[0;34m\u001b[0m\u001b[0m\n\u001b[0;32m---> 53\u001b[0;31m       \u001b[0mself\u001b[0m\u001b[0;34m.\u001b[0m\u001b[0mdataset_rewired\u001b[0m \u001b[0;34m=\u001b[0m \u001b[0mrewire\u001b[0m\u001b[0;34m(\u001b[0m\u001b[0mdataset\u001b[0m\u001b[0;34m,\u001b[0m \u001b[0mrewiring\u001b[0m\u001b[0;34m,\u001b[0m \u001b[0mk\u001b[0m\u001b[0;34m)\u001b[0m\u001b[0;34m\u001b[0m\u001b[0;34m\u001b[0m\u001b[0m\n\u001b[0m\u001b[1;32m     54\u001b[0m \u001b[0;34m\u001b[0m\u001b[0m\n\u001b[1;32m     55\u001b[0m   \u001b[0;32mdef\u001b[0m \u001b[0mget\u001b[0m\u001b[0;34m(\u001b[0m\u001b[0mself\u001b[0m\u001b[0;34m,\u001b[0m \u001b[0midx\u001b[0m\u001b[0;34m)\u001b[0m\u001b[0;34m:\u001b[0m\u001b[0;34m\u001b[0m\u001b[0;34m\u001b[0m\u001b[0m\n",
            "\u001b[0;32m<ipython-input-17-419745086e98>\u001b[0m in \u001b[0;36mrewire\u001b[0;34m(dataset, rewiring, k)\u001b[0m\n\u001b[1;32m      9\u001b[0m       \u001b[0mempty\u001b[0m \u001b[0;34m=\u001b[0m \u001b[0;32mTrue\u001b[0m\u001b[0;34m\u001b[0m\u001b[0;34m\u001b[0m\u001b[0m\n\u001b[1;32m     10\u001b[0m     \u001b[0;32melif\u001b[0m \u001b[0mrewiring\u001b[0m \u001b[0;34m==\u001b[0m \u001b[0;34m\"HHS\"\u001b[0m\u001b[0;34m:\u001b[0m\u001b[0;34m\u001b[0m\u001b[0;34m\u001b[0m\u001b[0m\n\u001b[0;32m---> 11\u001b[0;31m       \u001b[0mA\u001b[0m\u001b[0;34m,\u001b[0m \u001b[0medge_to_index\u001b[0m\u001b[0;34m,\u001b[0m \u001b[0mL\u001b[0m\u001b[0;34m,\u001b[0m \u001b[0mD\u001b[0m \u001b[0;34m=\u001b[0m \u001b[0mcreate_views\u001b[0m\u001b[0;34m(\u001b[0m\u001b[0mG\u001b[0m\u001b[0;34m)\u001b[0m\u001b[0;34m\u001b[0m\u001b[0;34m\u001b[0m\u001b[0m\n\u001b[0m\u001b[1;32m     12\u001b[0m       \u001b[0msorted_counts\u001b[0m \u001b[0;34m=\u001b[0m \u001b[0mget_sorted_counts\u001b[0m\u001b[0;34m(\u001b[0m\u001b[0mG\u001b[0m\u001b[0;34m,\u001b[0m\u001b[0mk\u001b[0m\u001b[0;34m,\u001b[0m\u001b[0mA\u001b[0m\u001b[0;34m,\u001b[0m\u001b[0medge_to_index\u001b[0m\u001b[0;34m,\u001b[0m\u001b[0mL\u001b[0m\u001b[0;34m,\u001b[0m\u001b[0mD\u001b[0m\u001b[0;34m,\u001b[0m\u001b[0mdist\u001b[0m\u001b[0;34m=\u001b[0m\u001b[0;32mTrue\u001b[0m\u001b[0;34m)\u001b[0m\u001b[0;34m\u001b[0m\u001b[0;34m\u001b[0m\u001b[0m\n\u001b[1;32m     13\u001b[0m       \u001b[0mG2\u001b[0m \u001b[0;34m=\u001b[0m \u001b[0mrewire_hhs\u001b[0m\u001b[0;34m(\u001b[0m\u001b[0mcopy\u001b[0m\u001b[0;34m.\u001b[0m\u001b[0mdeepcopy\u001b[0m\u001b[0;34m(\u001b[0m\u001b[0mG\u001b[0m\u001b[0;34m)\u001b[0m\u001b[0;34m,\u001b[0m\u001b[0mk\u001b[0m\u001b[0;34m,\u001b[0m\u001b[0mA\u001b[0m\u001b[0;34m,\u001b[0m\u001b[0medge_to_index\u001b[0m\u001b[0;34m,\u001b[0m\u001b[0mL\u001b[0m\u001b[0;34m,\u001b[0m\u001b[0mD\u001b[0m\u001b[0;34m,\u001b[0m\u001b[0msorted_counts\u001b[0m\u001b[0;34m,\u001b[0m\u001b[0;32mTrue\u001b[0m\u001b[0;34m)\u001b[0m\u001b[0;34m\u001b[0m\u001b[0;34m\u001b[0m\u001b[0m\n",
            "\u001b[0;32m/content/drive/MyDrive/CubeRep-Rewiring/src/relwire.py\u001b[0m in \u001b[0;36mcreate_views\u001b[0;34m(G)\u001b[0m\n\u001b[1;32m     77\u001b[0m     \u001b[0;32mfor\u001b[0m \u001b[0mj\u001b[0m\u001b[0;34m,\u001b[0m\u001b[0mej\u001b[0m \u001b[0;32min\u001b[0m \u001b[0mL\u001b[0m\u001b[0;34m:\u001b[0m\u001b[0;34m\u001b[0m\u001b[0;34m\u001b[0m\u001b[0m\n\u001b[1;32m     78\u001b[0m       \u001b[0;32mif\u001b[0m \u001b[0mi\u001b[0m \u001b[0;34m!=\u001b[0m \u001b[0mj\u001b[0m\u001b[0;34m:\u001b[0m\u001b[0;34m\u001b[0m\u001b[0;34m\u001b[0m\u001b[0m\n\u001b[0;32m---> 79\u001b[0;31m         \u001b[0mA\u001b[0m\u001b[0;34m[\u001b[0m\u001b[0mi\u001b[0m\u001b[0;34m,\u001b[0m\u001b[0mj\u001b[0m\u001b[0;34m]\u001b[0m \u001b[0;34m=\u001b[0m \u001b[0mcorrect_answer\u001b[0m\u001b[0;34m(\u001b[0m\u001b[0mD\u001b[0m\u001b[0;34m,\u001b[0m\u001b[0mei\u001b[0m\u001b[0;34m,\u001b[0m\u001b[0mej\u001b[0m\u001b[0;34m)\u001b[0m\u001b[0;34m\u001b[0m\u001b[0;34m\u001b[0m\u001b[0m\n\u001b[0m\u001b[1;32m     80\u001b[0m   \u001b[0;31m# print((A-A.T).abs().sum())\u001b[0m\u001b[0;34m\u001b[0m\u001b[0;34m\u001b[0m\u001b[0m\n\u001b[1;32m     81\u001b[0m \u001b[0;34m\u001b[0m\u001b[0m\n",
            "\u001b[0;32m/content/drive/MyDrive/CubeRep-Rewiring/src/relwire.py\u001b[0m in \u001b[0;36mcorrect_answer\u001b[0;34m(D, ei, ej)\u001b[0m\n\u001b[1;32m    119\u001b[0m     \u001b[0;32melif\u001b[0m \u001b[0mD\u001b[0m\u001b[0;34m[\u001b[0m\u001b[0mi\u001b[0m\u001b[0;34m,\u001b[0m\u001b[0mb\u001b[0m\u001b[0;34m]\u001b[0m \u001b[0;34m<\u001b[0m \u001b[0mD\u001b[0m\u001b[0;34m[\u001b[0m\u001b[0mi\u001b[0m\u001b[0;34m,\u001b[0m\u001b[0ma\u001b[0m\u001b[0;34m]\u001b[0m\u001b[0;34m:\u001b[0m\u001b[0;34m\u001b[0m\u001b[0;34m\u001b[0m\u001b[0m\n\u001b[1;32m    120\u001b[0m       \u001b[0;32mif\u001b[0m \u001b[0mD\u001b[0m\u001b[0;34m[\u001b[0m\u001b[0mi\u001b[0m\u001b[0;34m,\u001b[0m\u001b[0mu\u001b[0m\u001b[0;34m]\u001b[0m \u001b[0;34m<\u001b[0m \u001b[0mD\u001b[0m\u001b[0;34m[\u001b[0m\u001b[0mi\u001b[0m\u001b[0;34m,\u001b[0m\u001b[0mv\u001b[0m\u001b[0;34m]\u001b[0m\u001b[0;34m:\u001b[0m\u001b[0;34m\u001b[0m\u001b[0;34m\u001b[0m\u001b[0m\n\u001b[0;32m--> 121\u001b[0;31m         \u001b[0mbu\u001b[0m \u001b[0;34m=\u001b[0m \u001b[0;32mTrue\u001b[0m\u001b[0;34m\u001b[0m\u001b[0;34m\u001b[0m\u001b[0m\n\u001b[0m\u001b[1;32m    122\u001b[0m       \u001b[0;32melif\u001b[0m \u001b[0mD\u001b[0m\u001b[0;34m[\u001b[0m\u001b[0mi\u001b[0m\u001b[0;34m,\u001b[0m\u001b[0mv\u001b[0m\u001b[0;34m]\u001b[0m \u001b[0;34m<\u001b[0m \u001b[0mD\u001b[0m\u001b[0;34m[\u001b[0m\u001b[0mi\u001b[0m\u001b[0;34m,\u001b[0m\u001b[0mu\u001b[0m\u001b[0;34m]\u001b[0m\u001b[0;34m:\u001b[0m\u001b[0;34m\u001b[0m\u001b[0;34m\u001b[0m\u001b[0m\n\u001b[1;32m    123\u001b[0m         \u001b[0mbv\u001b[0m \u001b[0;34m=\u001b[0m \u001b[0;32mTrue\u001b[0m\u001b[0;34m\u001b[0m\u001b[0;34m\u001b[0m\u001b[0m\n",
            "\u001b[0;31mKeyboardInterrupt\u001b[0m: "
          ]
        }
      ],
      "source": [
        "hhs_dataset = RewiredDataset(dataset, \"HHS\", 5)\n",
        "torch.save(hhs_dataset, \"/content/drive/MyDrive/CubeRep-Rewiring/data/imdb-binary-hhs.pt\")"
      ]
    },
    {
      "cell_type": "code",
      "execution_count": null,
      "metadata": {
        "colab": {
          "background_save": true,
          "base_uri": "https://localhost:8080/"
        },
        "id": "3k0EPCYeHzQp",
        "outputId": "e93c6699-b816-4de2-a94a-0894499d5f44"
      },
      "outputs": [
        {
          "name": "stderr",
          "output_type": "stream",
          "text": [
            "  0%|          | 0/10873 [00:00<?, ?it/s]<ipython-input-17-419745086e98>:22: FutureWarning: adjacency_matrix will return a scipy.sparse array instead of a matrix in Networkx 3.0.\n",
            "  data.rewired_edge_index = torch.tensor(nx.adjacency_matrix(G2).toarray()).to(torch.float).nonzero().t().contiguous()\n",
            "100%|██████████| 10873/10873 [00:47<00:00, 229.73it/s]\n",
            "100%|██████████| 10873/10873 [00:47<00:00, 227.07it/s]\n",
            "100%|██████████| 10873/10873 [00:50<00:00, 214.86it/s]\n",
            "100%|██████████| 10873/10873 [00:50<00:00, 215.05it/s]\n",
            "100%|██████████| 10873/10873 [00:51<00:00, 209.17it/s]\n",
            "100%|██████████| 10873/10873 [00:52<00:00, 206.00it/s]\n",
            "100%|██████████| 10873/10873 [00:53<00:00, 203.82it/s]\n",
            "100%|██████████| 10873/10873 [00:55<00:00, 197.10it/s]\n",
            "100%|██████████| 10873/10873 [00:56<00:00, 192.30it/s]\n",
            "100%|██████████| 10873/10873 [00:56<00:00, 193.79it/s]\n",
            "100%|██████████| 10873/10873 [00:57<00:00, 190.39it/s]\n",
            "100%|██████████| 10873/10873 [00:59<00:00, 182.94it/s]\n",
            "100%|██████████| 10873/10873 [00:59<00:00, 183.74it/s]\n",
            "100%|██████████| 10873/10873 [01:00<00:00, 179.79it/s]\n",
            "100%|██████████| 10873/10873 [01:01<00:00, 175.51it/s]\n",
            "100%|██████████| 10873/10873 [01:02<00:00, 173.62it/s]\n",
            "100%|██████████| 10873/10873 [01:03<00:00, 170.25it/s]\n",
            "100%|██████████| 10873/10873 [01:04<00:00, 169.88it/s]\n",
            "100%|██████████| 10873/10873 [01:04<00:00, 167.72it/s]\n",
            "100%|██████████| 10873/10873 [01:05<00:00, 166.78it/s]\n"
          ]
        }
      ],
      "source": [
        "for k in range(1,21):\n",
        "  fosr_dataset = RewiredDataset(dataset, \"fosr\", k)\n",
        "  torch.save(fosr_dataset, \"/content/drive/MyDrive/CubeRep-Rewiring/data/peptides-struct-fosr-\"+str(k)+\".pt\")"
      ]
    },
    {
      "cell_type": "code",
      "execution_count": null,
      "metadata": {
        "colab": {
          "base_uri": "https://localhost:8080/"
        },
        "id": "EsIFwY2mIsy-",
        "outputId": "db15fc6d-2ca5-4cee-ac81-f59725c47b2a"
      },
      "outputs": [
        {
          "name": "stderr",
          "output_type": "stream",
          "text": [
            "  0%|          | 0/10873 [00:00<?, ?it/s]/content/drive/MyDrive/CubeRep-Rewiring/src/sdrf.py:211: FutureWarning: adjacency_matrix will return a scipy.sparse array instead of a matrix in Networkx 3.0.\n",
            "  A = nx.adjacency_matrix(G)\n",
            "/usr/local/lib/python3.10/dist-packages/numba/cuda/dispatcher.py:536: NumbaPerformanceWarning: Grid size 1 will likely result in GPU under-utilization due to low occupancy.\n",
            "  warn(NumbaPerformanceWarning(msg))\n",
            "/usr/local/lib/python3.10/dist-packages/numba/cuda/cudadrv/devicearray.py:886: NumbaPerformanceWarning: Host array used in CUDA kernel will incur copy overhead to/from device.\n",
            "  warn(NumbaPerformanceWarning(msg))\n",
            "<ipython-input-17-419745086e98>:22: FutureWarning: adjacency_matrix will return a scipy.sparse array instead of a matrix in Networkx 3.0.\n",
            "  data.rewired_edge_index = torch.tensor(nx.adjacency_matrix(G2).toarray()).to(torch.float).nonzero().t().contiguous()\n",
            "  0%|          | 1/10873 [00:00<1:05:57,  2.75it/s]/usr/local/lib/python3.10/dist-packages/numba/cuda/dispatcher.py:536: NumbaPerformanceWarning: Grid size 100 will likely result in GPU under-utilization due to low occupancy.\n",
            "  warn(NumbaPerformanceWarning(msg))\n",
            "/usr/local/lib/python3.10/dist-packages/numba/cuda/dispatcher.py:536: NumbaPerformanceWarning: Grid size 49 will likely result in GPU under-utilization due to low occupancy.\n",
            "  warn(NumbaPerformanceWarning(msg))\n",
            "/usr/local/lib/python3.10/dist-packages/numba/cuda/dispatcher.py:536: NumbaPerformanceWarning: Grid size 64 will likely result in GPU under-utilization due to low occupancy.\n",
            "  warn(NumbaPerformanceWarning(msg))\n",
            "/usr/local/lib/python3.10/dist-packages/numba/cuda/dispatcher.py:536: NumbaPerformanceWarning: Grid size 25 will likely result in GPU under-utilization due to low occupancy.\n",
            "  warn(NumbaPerformanceWarning(msg))\n",
            "/usr/local/lib/python3.10/dist-packages/numba/cuda/dispatcher.py:536: NumbaPerformanceWarning: Grid size 9 will likely result in GPU under-utilization due to low occupancy.\n",
            "  warn(NumbaPerformanceWarning(msg))\n",
            "  0%|          | 10/10873 [00:00<06:38, 27.24it/s] /usr/local/lib/python3.10/dist-packages/numba/cuda/dispatcher.py:536: NumbaPerformanceWarning: Grid size 121 will likely result in GPU under-utilization due to low occupancy.\n",
            "  warn(NumbaPerformanceWarning(msg))\n",
            "/usr/local/lib/python3.10/dist-packages/numba/cuda/dispatcher.py:536: NumbaPerformanceWarning: Grid size 16 will likely result in GPU under-utilization due to low occupancy.\n",
            "  warn(NumbaPerformanceWarning(msg))\n",
            "  0%|          | 19/10873 [00:00<04:09, 43.50it/s]/usr/local/lib/python3.10/dist-packages/numba/cuda/dispatcher.py:536: NumbaPerformanceWarning: Grid size 81 will likely result in GPU under-utilization due to low occupancy.\n",
            "  warn(NumbaPerformanceWarning(msg))\n",
            "  0%|          | 28/10873 [00:00<03:19, 54.26it/s]/usr/local/lib/python3.10/dist-packages/numba/cuda/dispatcher.py:536: NumbaPerformanceWarning: Grid size 36 will likely result in GPU under-utilization due to low occupancy.\n",
            "  warn(NumbaPerformanceWarning(msg))\n",
            "  0%|          | 39/10873 [00:00<02:39, 67.86it/s]/usr/local/lib/python3.10/dist-packages/numba/cuda/dispatcher.py:536: NumbaPerformanceWarning: Grid size 4 will likely result in GPU under-utilization due to low occupancy.\n",
            "  warn(NumbaPerformanceWarning(msg))\n",
            "100%|██████████| 10873/10873 [01:49<00:00, 99.24it/s] \n",
            "100%|██████████| 10873/10873 [02:23<00:00, 75.76it/s]\n",
            "100%|██████████| 10873/10873 [02:54<00:00, 62.15it/s]\n",
            "100%|██████████| 10873/10873 [03:27<00:00, 52.29it/s]\n",
            "100%|██████████| 10873/10873 [04:04<00:00, 44.50it/s]\n",
            "100%|██████████| 10873/10873 [04:38<00:00, 39.00it/s]\n",
            "100%|██████████| 10873/10873 [05:17<00:00, 34.26it/s]\n",
            "100%|██████████| 10873/10873 [05:50<00:00, 31.06it/s]\n",
            "100%|██████████| 10873/10873 [06:27<00:00, 28.04it/s]\n",
            "100%|██████████| 10873/10873 [07:03<00:00, 25.67it/s]\n",
            "100%|██████████| 10873/10873 [07:37<00:00, 23.75it/s]\n",
            "100%|██████████| 10873/10873 [08:12<00:00, 22.08it/s]\n",
            "100%|██████████| 10873/10873 [08:50<00:00, 20.50it/s]\n",
            "100%|██████████| 10873/10873 [09:27<00:00, 19.16it/s]\n",
            "100%|██████████| 10873/10873 [10:06<00:00, 17.93it/s]\n",
            "100%|██████████| 10873/10873 [10:42<00:00, 16.92it/s]\n",
            "100%|██████████| 10873/10873 [11:27<00:00, 15.82it/s]\n",
            "100%|██████████| 10873/10873 [12:10<00:00, 14.89it/s]\n",
            "100%|██████████| 10873/10873 [12:44<00:00, 14.22it/s]\n",
            "100%|██████████| 10873/10873 [13:17<00:00, 13.63it/s]\n"
          ]
        }
      ],
      "source": [
        "for k in range(1,21):\n",
        "  sdrf_dataset = RewiredDataset(dataset, \"sdrf\", k)\n",
        "  torch.save(sdrf_dataset, \"/content/drive/MyDrive/CubeRep-Rewiring/data/peptides-struct-sdrf-\"+str(k)+\".pt\")"
      ]
    },
    {
      "cell_type": "markdown",
      "metadata": {
        "id": "bwuVCBw400gt"
      },
      "source": [
        "# Calculate metrics"
      ]
    },
    {
      "cell_type": "code",
      "execution_count": null,
      "metadata": {
        "id": "515Ct_A4kLXr"
      },
      "outputs": [],
      "source": [
        "def edge_to_graph(edge_index):\n",
        "  adj_matrix = to_dense_adj(edge_index)[0]\n",
        "  G = nx.from_numpy_array(adj_matrix.numpy())\n",
        "  return G\n",
        "\n",
        "def graph_to_edge(G):\n",
        "  return torch.tensor(nx.adjacency_matrix(G).toarray()).to(torch.float).nonzero().t().contiguous()\n",
        "\n",
        "def adj_to_edge(A):\n",
        "  return A.to(torch.float).nonzero().t().contiguous()\n",
        "\n",
        "def calc_eigengap(G):\n",
        "  LG = nx.normalized_laplacian_matrix(G)\n",
        "  eLG, evecsLG = find_eigen(LG.todense())\n",
        "  gapLG = eLG[1]\n",
        "  return gapLG\n",
        "\n",
        "def calc_average_commute(G):\n",
        "  return commute_times(G).mean()\n",
        "\n",
        "def calc_average_curvature(G):\n",
        "  return curvature(G)[0].mean()\n",
        "\n",
        "def calc_persistence(G):\n",
        "  n = G.number_of_nodes()\n",
        "  d = nx.algorithms.shortest_paths.dense.floyd_warshall(G)\n",
        "  D = torch.zeros(n,n, dtype = torch.double)\n",
        "  for i in range(n):\n",
        "    for j in range(n):\n",
        "      D[i,j] = d[i][j]\n",
        "\n",
        "  diagrams = ripser(D.numpy(), distance_matrix = True)['dgms']\n",
        "  return diagrams\n",
        "\n",
        "def calc_bottleneck_distance(G_orig, G_new):\n",
        "  diagrams_orig = calc_persistence(G_orig)\n",
        "  diagrams_new = calc_persistence(G_new)\n",
        "  try:\n",
        "    distance_bottleneck, matching = persim.bottleneck(diagrams_orig[1], diagrams_new[1], matching=True)\n",
        "  except:\n",
        "    distance_bottleneck = 0\n",
        "  return distance_bottleneck\n",
        "\n",
        "def graphs_to_dists(Gs):\n",
        "  n = Gs[0].number_of_nodes()\n",
        "  N = len(Gs)\n",
        "  Ds = torch.zeros(N,n,n, dtype = torch.double)\n",
        "  for idx in range(N):\n",
        "    d = nx.algorithms.shortest_paths.dense.floyd_warshall(Gs[idx])\n",
        "    for i in range(n):\n",
        "      for j in range(n):\n",
        "        Ds[idx,i,j] = d[i][j]\n",
        "  return Ds\n",
        "\n",
        "def compute_homologies(Ds, dim = 8, sparse = True):\n",
        "  if sparse:\n",
        "    VR = SparseRipsPersistence(metric = \"precomputed\", homology_dimensions=list(range(1,dim+1)))\n",
        "  else:\n",
        "    VR = VietorisRipsPersistence(metric = \"precomputed\", homology_dimensions=list(range(1,dim+1)))\n",
        "  return VR.fit_transform(Ds)\n",
        "\n",
        "def homology_distance(dgms, metric = \"wasserstein\"):\n",
        "  hom_dist = PairwiseDistance(metric = metric)\n",
        "  return hom_dist.fit_transform(dgms)"
      ]
    },
    {
      "cell_type": "code",
      "execution_count": null,
      "metadata": {
        "id": "0wmVf6E01AGI"
      },
      "outputs": [],
      "source": [
        "import torch_geometric.transforms as T\n",
        "pre_transform = T.Compose([PrecomputeGTREdges(num_edges=1000)])\n",
        "transform = T.Compose([AddPrecomputedGTREdges(num_edges=1000)])\n",
        "dataset_gtr = torch_geometric.datasets.Planetoid(root=\"data/\",name = \"CiteSeer\", transform = transform, pre_transform=pre_transform)\n",
        "\n",
        "PreGTR = PrecomputeGTREdges(num_edges=1000)\n",
        "Gs_gtr = []\n",
        "G_data = Data(edge_index = dataset.edge_index)\n",
        "G_data_pre = PreGTR(G_data)\n",
        "for i in tqdm(range(1000)):\n",
        "  GTR = AddPrecomputedGTREdges(num_edges=i+1)\n",
        "  G_gtr = GTR(copy.deepcopy(G_data_pre)).edge_index\n",
        "  Gs_gtr.append(G_gtr)"
      ]
    },
    {
      "cell_type": "code",
      "execution_count": null,
      "metadata": {
        "id": "C60Yf3Ji-mOD"
      },
      "outputs": [],
      "source": [
        "# dataset_gtr = torch_geometric.datasets.MoleculeNet(root=\"data_rewired/\", name = \"Lipo\", transform = transform, pre_transform=pre_transform)\n",
        "# dataset = torch_geometric.datasets.MoleculeNet(root=\"data/\", name = \"Lipo\")\n",
        "\n",
        "dataset_gtr = torch_geometric.datasets.ZINC(root=\"data_rewired/\", subset = True, split = \"train\", transform = transform, pre_transform=pre_transform)\n",
        "dataset = torch_geometric.datasets.ZINC(root=\"data/\", subset = True, split = \"train\")"
      ]
    },
    {
      "cell_type": "code",
      "execution_count": null,
      "metadata": {
        "id": "2jMhDb5F7lAm"
      },
      "outputs": [],
      "source": [
        "# hhs_dataset = RewiredDataset(dataset, \"HHS\", 3)\n",
        "# torch.save(hhs_dataset, \"/content/drive/MyDrive/CubeRep-Rewiring/data/LINUX-hhs.pt\")\n",
        "hhs_dataset = torch.load(\"/content/drive/MyDrive/CubeRep-Rewiring/data/zinc-hhs.pt\")"
      ]
    },
    {
      "cell_type": "code",
      "execution_count": null,
      "metadata": {
        "id": "WP19TMwETrna"
      },
      "outputs": [],
      "source": [
        "# fosr_dataset = RewiredDataset(dataset, \"fosr\", 3)\n",
        "# torch.save(fosr_dataset, \"/content/drive/MyDrive/CubeRep-Rewiring/data/LINUX-fosr.pt\")\n",
        "fosr_dataset = torch.load(\"/content/drive/MyDrive/CubeRep-Rewiring/data/zinc-fosr.pt\")"
      ]
    },
    {
      "cell_type": "code",
      "execution_count": null,
      "metadata": {
        "id": "Z5aGupEA8TN2"
      },
      "outputs": [],
      "source": [
        "# sdrf_dataset = RewiredDataset(dataset, \"sdrf\", 3)\n",
        "# torch.save(sdrf_dataset, \"/content/drive/MyDrive/CubeRep-Rewiring/data/LINUX-sdrf.pt\")\n",
        "sdrf_dataset = torch.load(\"/content/drive/MyDrive/CubeRep-Rewiring/data/zinc-sdrf.pt\")"
      ]
    },
    {
      "cell_type": "code",
      "execution_count": null,
      "metadata": {
        "id": "ek5sKaKlraz5"
      },
      "outputs": [],
      "source": [
        "eigen_gap = torch.zeros(5,200)\n",
        "average_commute_times = torch.zeros(5,200)\n",
        "average_curvature = torch.zeros(5,200)\n",
        "bottleneck_distance = torch.zeros(4,200)\n",
        "tmd_distance = torch.zeros(4,200)"
      ]
    },
    {
      "cell_type": "code",
      "execution_count": null,
      "metadata": {
        "id": "zitmsNk8r88o"
      },
      "outputs": [],
      "source": [
        "import warnings\n",
        "warnings.simplefilter(action='ignore', category=FutureWarning)\n",
        "\n",
        "for i in tqdm(range(200)):\n",
        "  G_orig = edge_to_graph(dataset[i].edge_index)\n",
        "  G_hhs = edge_to_graph(hhs_dataset[i].rewired_edge_index)\n",
        "  G_sdrf = edge_to_graph(sdrf_dataset[i].rewired_edge_index)\n",
        "  G_fosr = edge_to_graph(fosr_dataset[i].rewired_edge_index)\n",
        "  G_gtr = edge_to_graph(dataset_gtr[i].edge_index)\n",
        "\n",
        "\n",
        "  G_hhs_data = Data(x = hhs_dataset[i].x.to(torch.float), edge_index = hhs_dataset[i].rewired_edge_index)\n",
        "  G_sdrf_data = Data(x = hhs_dataset[i].x.to(torch.float), edge_index = sdrf_dataset[i].rewired_edge_index)\n",
        "  G_fosr_data = Data(x = hhs_dataset[i].x.to(torch.float), edge_index = fosr_dataset[i].rewired_edge_index)\n",
        "  G_orig_data = Data(x = hhs_dataset[i].x.to(torch.float), edge_index = dataset[i].edge_index)\n",
        "  G_gtr_data = Data(x = hhs_dataset[i].x.to(torch.float), edge_index = dataset_gtr[i].edge_index)\n",
        "\n",
        "  # print(G_orig.number_of_nodes(), G_hhs.number_of_nodes())\n",
        "\n",
        "  if G_orig.number_of_edges() > 0:\n",
        "\n",
        "    try:\n",
        "      eigen_gap[0,i] = calc_eigengap(G_orig)\n",
        "    except:\n",
        "      print(calc_eigengap(G_orig))\n",
        "    try:\n",
        "      eigen_gap[1,i] = calc_eigengap(G_hhs)\n",
        "    except:\n",
        "      print(calc_eigengap(G_hhs))\n",
        "    try:\n",
        "      eigen_gap[2,i] = calc_eigengap(G_sdrf)\n",
        "    except:\n",
        "      print(calc_eigengap(G_sdrf))\n",
        "    try:\n",
        "      eigen_gap[3,i] = calc_eigengap(G_fosr)\n",
        "    except:\n",
        "      print(calc_eigengap(G_fosr))\n",
        "    try:\n",
        "      eigen_gap[4,i] = calc_eigengap(G_gtr)\n",
        "    except:\n",
        "      print(calc_eigengap(G_gtr))\n",
        "\n",
        "    tmd_distance[0,i] = TMD(G_orig_data, G_hhs_data, w=1, L=4)\n",
        "    tmd_distance[1,i] = TMD(G_orig_data, G_sdrf_data, w=1, L=4)\n",
        "    tmd_distance[2,i] = TMD(G_orig_data, G_fosr_data, w=1, L=4)\n",
        "    tmd_distance[3,i] = TMD(G_orig_data, G_gtr_data, w=1, L=4)\n",
        "\n",
        "    average_commute_times[0,i] = calc_average_commute(G_orig)\n",
        "    average_commute_times[1,i] = calc_average_commute(G_hhs)\n",
        "    average_commute_times[2,i] = calc_average_commute(G_sdrf)\n",
        "    average_commute_times[3,i] = calc_average_commute(G_fosr)\n",
        "    average_commute_times[4,i] = calc_average_commute(G_gtr)\n",
        "\n",
        "    average_curvature[0,i] = calc_average_curvature(G_orig)\n",
        "    average_curvature[1,i] = calc_average_curvature(G_hhs)\n",
        "    average_curvature[2,i] = calc_average_curvature(G_sdrf)\n",
        "    average_curvature[3,i] = calc_average_curvature(G_fosr)\n",
        "    average_curvature[4,i] = calc_average_curvature(G_gtr)\n",
        "\n",
        "    # print(G_orig.number_of_nodes(), G_hhs.number_of_nodes(), G_sdrf.number_of_nodes(), G_fosr.number_of_nodes())\n",
        "\n",
        "    Ds = graphs_to_dists([G_orig,G_hhs,G_sdrf,G_fosr,G_gtr])\n",
        "    dgms = compute_homologies(Ds, 3, sparse = False)\n",
        "    dists = homology_distance(dgms, metric = \"betti\")\n",
        "\n",
        "    bottleneck_distance[0,i] = dists[0,1] #calc_bottleneck_distance(G_orig, G_hhs)\n",
        "    bottleneck_distance[1,i] = dists[0,2] #calc_bottleneck_distance(G_orig, G_sdrf)\n",
        "    bottleneck_distance[2,i] = dists[0,3] #calc_bottleneck_distance(G_orig, G_fosr)\n",
        "    bottleneck_distance[3,i] = dists[0,4] #calc_bottleneck_distance(G_orig, G_gtr)"
      ]
    },
    {
      "cell_type": "markdown",
      "metadata": {
        "id": "jZnFYnJrJ9Uq"
      },
      "source": [
        "# Train Networks"
      ]
    },
    {
      "cell_type": "code",
      "execution_count": null,
      "metadata": {
        "id": "XpEfViC0KBXY"
      },
      "outputs": [],
      "source": [
        "def get_nn(in_channels, out_channels):\n",
        "  return torch.nn.Sequential(torch.nn.Linear(in_channels, out_channels), torch.nn.ReLU(),\n",
        "                             torch.nn.Linear(out_channels, out_channels))\n",
        "\n",
        "class GNN(torch.nn.Module):\n",
        "  def __init__(self, node_input_dim, num_classes, num_layers, hidden_dim = 128, device = \"cuda\", arch = \"GCN\"):\n",
        "    super().__init__()\n",
        "\n",
        "    self.num_layers = num_layers\n",
        "    self.layers = []\n",
        "    if arch == \"GIN\":\n",
        "      self.layers.append(torch_geometric.nn.GINConv(get_nn(node_input_dim, hidden_dim)).to(device))\n",
        "      for i in range(num_layers-1):\n",
        "        self.layers.append(torch_geometric.nn.GINConv(get_nn(hidden_dim, hidden_dim)).to(device))\n",
        "    elif arch == \"Graph\":\n",
        "      self.layers.append(torch_geometric.nn.GraphConv(node_input_dim, hidden_dim).to(device))\n",
        "      for i in range(num_layers-1):\n",
        "        self.layers.append(torch_geometric.nn.GraphConv(hidden_dim, hidden_dim).to(device))\n",
        "    elif arch == \"GAT\":\n",
        "      self.layers.append(torch_geometric.nn.GATConv(node_input_dim, hidden_dim).to(device))\n",
        "      for i in range(num_layers-1):\n",
        "        self.layers.append(torch_geometric.nn.GATConv(hidden_dim, hidden_dim).to(device))\n",
        "    else:\n",
        "      self.layers.append(torch_geometric.nn.GCNConv(node_input_dim, hidden_dim).to(device))\n",
        "      for i in range(num_layers-1):\n",
        "        self.layers.append(torch_geometric.nn.GCNConv(hidden_dim, hidden_dim).to(device))\n",
        "\n",
        "    self.layers = torch.nn.ModuleList(self.layers)\n",
        "    self.lin = torch.nn.Linear(hidden_dim, num_classes).to(device)\n",
        "\n",
        "  def forward(self, x, edge_index, batch):\n",
        "    for i in range(self.num_layers):\n",
        "      x = self.layers[i](x, edge_index).relu()\n",
        "\n",
        "    x = torch_geometric.nn.global_mean_pool(x, batch)\n",
        "    z = self.lin(x)\n",
        "    return z"
      ]
    },
    {
      "cell_type": "code",
      "execution_count": null,
      "metadata": {
        "id": "5Y4rKOmfCKrc"
      },
      "outputs": [],
      "source": [
        "def add_features(dataset, x):\n",
        "  dataset_new = []\n",
        "  N = len(dataset)\n",
        "  for i in tqdm(range(N)):\n",
        "    data = dataset[i]\n",
        "    data.x = x[i]\n",
        "    dataset_new.append(data)\n",
        "  return dataset_new\n",
        "\n",
        "def append_features(dataset, x):\n",
        "  dataset_new = []\n",
        "  N = len(dataset)\n",
        "  for i in tqdm(range(N)):\n",
        "    data = dataset[i]\n",
        "    data.x = torch.cat((data.x, x[i]), dim=1)\n",
        "    dataset_new.append(data)\n",
        "  return dataset_new\n",
        "\n",
        "def create_features(dataset, dim):\n",
        "  x = []\n",
        "  N = len(dataset)\n",
        "  for i in tqdm(range(N)):\n",
        "    x.append(torch.randn(dataset[i].num_nodes, dim))\n",
        "  return x\n",
        "\n",
        "def create_adj(dataset, method):\n",
        "  adj = []\n",
        "  N = len(dataset)\n",
        "  for i in tqdm(range(N)):\n",
        "    if method == \"empty\":\n",
        "      adj.append(torch.zeros(dataset[i].num_nodes, dataset[i].num_nodes))\n",
        "    elif method == \"full\":\n",
        "      adj.append(torch.ones(dataset[i].num_nodes, dataset[i].num_nodes) - torch.eye(dataset[i].num_nodes))\n",
        "    else:\n",
        "      adj.append(to_dense_adj(dataset[i].edge_index)[0])\n",
        "  return adj\n",
        "\n",
        "def replace_y(dataset1, dataset2):\n",
        "  N = len(dataset1)\n",
        "  for i in tqdm(range(N)):\n",
        "    dataset1[i].y = dataset2[i].y\n",
        "  return dataset1"
      ]
    },
    {
      "cell_type": "code",
      "execution_count": null,
      "metadata": {
        "colab": {
          "base_uri": "https://localhost:8080/"
        },
        "id": "ieO-X30FDCJy",
        "outputId": "00d09275-dd91-474e-d565-3ce1f293197e"
      },
      "outputs": [
        {
          "name": "stderr",
          "output_type": "stream",
          "text": [
            "\r  0%|          | 0/10000 [00:00<?, ?it/s]/usr/local/lib/python3.10/dist-packages/torch_geometric/data/storage.py:327: UserWarning: Unable to accurately infer 'num_nodes' from the attribute set '{'edge_index'}'. Please explicitly set 'num_nodes' as an attribute of 'data' to suppress this warning\n",
            "  warnings.warn(\n",
            "<class 'networkx.utils.decorators.argmap'> compilation 4:4: FutureWarning: laplacian_matrix will return a scipy.sparse array instead of a matrix in Networkx 3.0.\n",
            "100%|██████████| 10000/10000 [01:31<00:00, 109.40it/s]\n",
            "100%|██████████| 10000/10000 [00:00<00:00, 28901.76it/s]\n"
          ]
        }
      ],
      "source": [
        "import torch_geometric.transforms as T\n",
        "# pre_transform = T.Compose([PrecomputeGTREdges(num_edges=1000)])\n",
        "# transform = T.Compose([AddPrecomputedGTREdges(num_edges=1000)])\n",
        "# dataset_gtr = torch_geometric.datasets.TUDataset(root=\"data/\",name = \"IMDB-BINARY\", transform = transform, pre_transform=pre_transform)\n",
        "\n",
        "PreGTR = PrecomputeGTREdges(num_edges=3)\n",
        "data_gtr = []\n",
        "for i in tqdm(range(len(dataset))):\n",
        "  G_data = Data(edge_index = dataset[i].edge_index)\n",
        "  G_data_pre = PreGTR(G_data)\n",
        "  GTR = AddPrecomputedGTREdges(num_edges=3)\n",
        "  G_gtr = GTR(copy.deepcopy(G_data_pre)).edge_index\n",
        "  data_gtr.append(to_dense_adj(G_gtr)[0])\n",
        "\n",
        "data_gtr = merge_datasets_from_adj(dataset, data_gtr)"
      ]
    },
    {
      "cell_type": "code",
      "execution_count": null,
      "metadata": {
        "id": "hQcEkjqE9Lw5"
      },
      "outputs": [],
      "source": [
        "path = \"/content/drive/MyDrive/CubeRep-Rewiring/data/\"\n",
        "data_hhs = torch.load(path + \"zinc-hhs.pt\")\n",
        "data_sdrf = torch.load(path + \"zinc-sdrf.pt\")\n",
        "data_fosr = torch.load(path + \"zinc-fosr.pt\")"
      ]
    },
    {
      "cell_type": "code",
      "execution_count": null,
      "metadata": {
        "colab": {
          "base_uri": "https://localhost:8080/"
        },
        "id": "DAFmqjLZ5FPY",
        "outputId": "85fe85ed-f7f2-4423-a8ab-37eeb585ac9a"
      },
      "outputs": [
        {
          "data": {
            "text/plain": [
              "10000"
            ]
          },
          "execution_count": 16,
          "metadata": {},
          "output_type": "execute_result"
        }
      ],
      "source": [
        "len(data_hhs)"
      ]
    },
    {
      "cell_type": "code",
      "execution_count": null,
      "metadata": {
        "colab": {
          "base_uri": "https://localhost:8080/"
        },
        "id": "D3f6zINwfVII",
        "outputId": "363307b3-4cab-4915-8159-fcd8a878ae32"
      },
      "outputs": [
        {
          "data": {
            "text/plain": [
              "10000"
            ]
          },
          "execution_count": 17,
          "metadata": {},
          "output_type": "execute_result"
        }
      ],
      "source": [
        "len(data_sdrf)"
      ]
    },
    {
      "cell_type": "code",
      "execution_count": null,
      "metadata": {
        "colab": {
          "base_uri": "https://localhost:8080/"
        },
        "id": "LQMtr2385Ibs",
        "outputId": "939a2c8a-bfdd-48ed-e6d7-bbb60b5495e7"
      },
      "outputs": [
        {
          "data": {
            "text/plain": [
              "10000"
            ]
          },
          "execution_count": 18,
          "metadata": {},
          "output_type": "execute_result"
        }
      ],
      "source": [
        "len(data_fosr)"
      ]
    },
    {
      "cell_type": "code",
      "execution_count": null,
      "metadata": {
        "colab": {
          "base_uri": "https://localhost:8080/"
        },
        "id": "kB0BVymSY3X5",
        "outputId": "67689738-8a63-400c-949a-042b3acdc161"
      },
      "outputs": [
        {
          "data": {
            "text/plain": [
              "Data(x=[29, 1], edge_index=[2, 64], edge_attr=[64], y=[1], rewired_edge_index=[2, 70])"
            ]
          },
          "execution_count": 20,
          "metadata": {},
          "output_type": "execute_result"
        }
      ],
      "source": [
        "data_hhs[0]"
      ]
    },
    {
      "cell_type": "code",
      "execution_count": null,
      "metadata": {
        "colab": {
          "base_uri": "https://localhost:8080/"
        },
        "id": "W5T9hNd0Bd2p",
        "outputId": "5a6797bf-de4b-40f2-a730-dc42dfbfc31b"
      },
      "outputs": [
        {
          "name": "stderr",
          "output_type": "stream",
          "text": [
            "100%|██████████| 2000/2000 [00:01<00:00, 1643.09it/s]\n"
          ]
        }
      ],
      "source": [
        "data_hhs_new = merge_datasets_from_adj(dataset, data_hhs)"
      ]
    },
    {
      "cell_type": "code",
      "execution_count": null,
      "metadata": {
        "colab": {
          "base_uri": "https://localhost:8080/"
        },
        "id": "9pLHOosxHloY",
        "outputId": "c335db7b-0b2e-4cf8-9d3a-6b44e67c46ae"
      },
      "outputs": [
        {
          "name": "stderr",
          "output_type": "stream",
          "text": [
            "100%|██████████| 10000/10000 [00:00<00:00, 24997.79it/s]\n",
            "100%|██████████| 10000/10000 [00:00<00:00, 32777.53it/s]\n",
            "100%|██████████| 10000/10000 [00:00<00:00, 12577.06it/s]\n",
            "100%|██████████| 10000/10000 [00:01<00:00, 9428.94it/s]\n",
            "100%|██████████| 10000/10000 [00:02<00:00, 4603.73it/s]\n",
            "100%|██████████| 10000/10000 [00:00<00:00, 29524.61it/s]\n"
          ]
        }
      ],
      "source": [
        "data_empty = merge_datasets_from_adj(dataset, create_adj(dataset, \"empty\"))\n",
        "data_full = merge_datasets_from_adj(dataset, create_adj(dataset, \"full\"))\n",
        "data_none = merge_datasets_from_adj(dataset, create_adj(dataset, \"none\"))"
      ]
    },
    {
      "cell_type": "code",
      "execution_count": null,
      "metadata": {
        "colab": {
          "base_uri": "https://localhost:8080/"
        },
        "id": "sK0B12ZXCj7m",
        "outputId": "993015cf-cf63-4427-b8f3-74cd7dc94f55"
      },
      "outputs": [
        {
          "name": "stderr",
          "output_type": "stream",
          "text": [
            "100%|██████████| 10000/10000 [00:00<00:00, 18697.42it/s]\n"
          ]
        }
      ],
      "source": [
        "X = create_features(dataset,127)"
      ]
    },
    {
      "cell_type": "code",
      "execution_count": null,
      "metadata": {
        "colab": {
          "base_uri": "https://localhost:8080/"
        },
        "id": "DyA3UqN9Cqkm",
        "outputId": "16111d21-b566-41db-951c-f0698cdb90a0"
      },
      "outputs": [
        {
          "name": "stderr",
          "output_type": "stream",
          "text": [
            "100%|██████████| 10000/10000 [00:00<00:00, 30865.91it/s]\n",
            "100%|██████████| 10000/10000 [00:00<00:00, 31549.33it/s]\n",
            "100%|██████████| 10000/10000 [00:00<00:00, 30341.95it/s]\n",
            "100%|██████████| 10000/10000 [00:00<00:00, 31757.56it/s]\n",
            "100%|██████████| 10000/10000 [00:00<00:00, 33184.81it/s]\n",
            "100%|██████████| 10000/10000 [00:00<00:00, 33423.47it/s]\n",
            "100%|██████████| 10000/10000 [00:00<00:00, 35032.73it/s]\n"
          ]
        }
      ],
      "source": [
        "data_hhs = append_features(data_hhs, X)\n",
        "data_fosr = append_features(data_fosr, X)\n",
        "data_sdrf = append_features(data_sdrf, X)\n",
        "data_gtr = append_features(data_gtr, X)\n",
        "data_empty = append_features(data_empty, X)\n",
        "data_full = append_features(data_full, X)\n",
        "data_none = append_features(data_none, X)"
      ]
    },
    {
      "cell_type": "code",
      "execution_count": null,
      "metadata": {
        "colab": {
          "base_uri": "https://localhost:8080/"
        },
        "id": "lmeAXrQXFCsJ",
        "outputId": "de49b602-a558-40fd-ccda-5cf6c0f92c8c"
      },
      "outputs": [
        {
          "name": "stderr",
          "output_type": "stream",
          "text": [
            "100%|██████████| 10873/10873 [00:00<00:00, 48555.17it/s]\n",
            "100%|██████████| 10873/10873 [00:00<00:00, 37251.20it/s]\n",
            "100%|██████████| 10873/10873 [00:00<00:00, 45493.80it/s]\n",
            "100%|██████████| 10873/10873 [00:00<00:00, 51597.57it/s]\n",
            "100%|██████████| 10873/10873 [00:00<00:00, 51348.80it/s]\n",
            "100%|██████████| 10873/10873 [00:00<00:00, 47852.09it/s]\n",
            "100%|██████████| 10873/10873 [00:00<00:00, 50928.53it/s]\n"
          ]
        }
      ],
      "source": [
        "data_hhs = replace_y(data_hhs_new, dataset)\n",
        "data_fosr = replace_y(data_fosr, dataset)\n",
        "data_sdrf = replace_y(data_sdrf, dataset)\n",
        "data_gtr = replace_y(data_gtr, dataset)\n",
        "data_empty = replace_y(data_empty, dataset)\n",
        "data_full = replace_y(data_full, dataset)\n",
        "data_none = replace_y(data_none, dataset)"
      ]
    },
    {
      "cell_type": "code",
      "execution_count": null,
      "metadata": {
        "colab": {
          "base_uri": "https://localhost:8080/"
        },
        "id": "TJJiuQR1928e",
        "outputId": "baa98fe1-688d-42ba-b331-87a34691578d"
      },
      "outputs": [
        {
          "data": {
            "text/plain": [
              "Data(x=[27, 1], edge_index=[2, 60], edge_attr=[60], y=[1])"
            ]
          },
          "execution_count": 29,
          "metadata": {},
          "output_type": "execute_result"
        }
      ],
      "source": [
        "dataset[3]"
      ]
    },
    {
      "cell_type": "code",
      "execution_count": null,
      "metadata": {
        "colab": {
          "base_uri": "https://localhost:8080/"
        },
        "id": "JGQvefduDzg8",
        "outputId": "a3e8dcf3-43a8-4ab9-eb3a-69d8ef0155c4"
      },
      "outputs": [
        {
          "data": {
            "text/plain": [
              "Data(x=[27, 128], edge_index=[2, 60], edge_attr=[60], y=[1], rewired_edge_index=[2, 66])"
            ]
          },
          "execution_count": 30,
          "metadata": {},
          "output_type": "execute_result"
        }
      ],
      "source": [
        "data_gtr[3]"
      ]
    },
    {
      "cell_type": "code",
      "execution_count": null,
      "metadata": {
        "colab": {
          "base_uri": "https://localhost:8080/"
        },
        "id": "ynu7H1HCb88v",
        "outputId": "c70eda2c-f45e-4eb5-9754-2ec1f19d410b"
      },
      "outputs": [
        {
          "data": {
            "text/plain": [
              "Data(x=[27, 128], edge_index=[2, 60], edge_attr=[60], y=[1], rewired_edge_index=[2, 60])"
            ]
          },
          "execution_count": 31,
          "metadata": {},
          "output_type": "execute_result"
        }
      ],
      "source": [
        "data_none[3]"
      ]
    },
    {
      "cell_type": "code",
      "execution_count": null,
      "metadata": {
        "colab": {
          "base_uri": "https://localhost:8080/"
        },
        "id": "G2y-nELKIOMu",
        "outputId": "588df0f2-2e51-4207-fe55-3edc76ce8e9a"
      },
      "outputs": [
        {
          "data": {
            "text/plain": [
              "Data(x=[27, 128], edge_index=[2, 60], edge_attr=[60], y=[1], rewired_edge_index=[2, 0])"
            ]
          },
          "execution_count": 32,
          "metadata": {},
          "output_type": "execute_result"
        }
      ],
      "source": [
        "data_empty[3]"
      ]
    },
    {
      "cell_type": "code",
      "execution_count": null,
      "metadata": {
        "colab": {
          "base_uri": "https://localhost:8080/"
        },
        "id": "-NshRDQMIOBQ",
        "outputId": "63493629-1a05-4b4d-f3de-0c0308aabd1e"
      },
      "outputs": [
        {
          "data": {
            "text/plain": [
              "Data(x=[27, 128], edge_index=[2, 60], edge_attr=[60], y=[1], rewired_edge_index=[2, 702])"
            ]
          },
          "execution_count": 33,
          "metadata": {},
          "output_type": "execute_result"
        }
      ],
      "source": [
        "data_full[3]"
      ]
    },
    {
      "cell_type": "code",
      "execution_count": null,
      "metadata": {
        "colab": {
          "base_uri": "https://localhost:8080/"
        },
        "id": "MjWlQgAg9tJD",
        "outputId": "e0d53c4a-5d11-4bab-b716-fb54577d2a3a"
      },
      "outputs": [
        {
          "data": {
            "text/plain": [
              "Data(x=[27, 128], edge_index=[2, 60], edge_attr=[60], y=[1], rewired_edge_index=[2, 66])"
            ]
          },
          "execution_count": 34,
          "metadata": {},
          "output_type": "execute_result"
        }
      ],
      "source": [
        "data_sdrf[3]"
      ]
    },
    {
      "cell_type": "code",
      "execution_count": null,
      "metadata": {
        "colab": {
          "base_uri": "https://localhost:8080/"
        },
        "id": "3sfmFQrN90BV",
        "outputId": "664267ef-1982-42f4-bcb4-fe5f64d08c62"
      },
      "outputs": [
        {
          "data": {
            "text/plain": [
              "Data(x=[27, 128], edge_index=[2, 60], edge_attr=[60], y=[1], rewired_edge_index=[2, 66])"
            ]
          },
          "execution_count": 35,
          "metadata": {},
          "output_type": "execute_result"
        }
      ],
      "source": [
        "data_fosr[3]"
      ]
    },
    {
      "cell_type": "code",
      "execution_count": null,
      "metadata": {
        "colab": {
          "base_uri": "https://localhost:8080/"
        },
        "id": "cWnjJXVY9Lrc",
        "outputId": "fe215c46-b8f6-45bc-a82a-1daa848a93b6"
      },
      "outputs": [
        {
          "data": {
            "text/plain": [
              "Data(x=[27, 128], edge_index=[2, 60], edge_attr=[60], y=[1], rewired_edge_index=[2, 66])"
            ]
          },
          "execution_count": 36,
          "metadata": {},
          "output_type": "execute_result"
        }
      ],
      "source": [
        "# data_hhs = data_hhs_new\n",
        "data_hhs[3]"
      ]
    },
    {
      "cell_type": "code",
      "execution_count": null,
      "metadata": {
        "id": "8O6qUB0gGd-Y"
      },
      "outputs": [],
      "source": [
        "for i in range(len(data_hhs)):\n",
        "  print(data_hhs[i].y.max())"
      ]
    },
    {
      "cell_type": "code",
      "execution_count": null,
      "metadata": {
        "id": "W26OgD3h2v4V"
      },
      "outputs": [],
      "source": [
        "class RewiredDatasetEdgeIndex(InMemoryDataset):\n",
        "  def __init__(self, dataset, index = None):\n",
        "    super(RewiredDatasetEdgeIndex, self).__init__('.', None, None, None)\n",
        "\n",
        "    self.dataset_rewired = []\n",
        "    if index == None:\n",
        "      for i in range(len(dataset)):\n",
        "        data = dataset[i]\n",
        "        self.dataset_rewired.append(Data(x = data.x, edge_index = data.rewired_edge_index, y = data.y))\n",
        "    else:\n",
        "      for i in range(len(index)):\n",
        "        self.dataset_rewired.append(dataset[index[i]])\n",
        "\n",
        "  def get(self, idx):\n",
        "    return self.dataset_rewired[idx]\n",
        "\n",
        "  def len(self):\n",
        "    return len(self.dataset_rewired)\n",
        "\n",
        "  def _download(self):\n",
        "    return\n",
        "\n",
        "  def _process(self):\n",
        "      return\n",
        "\n",
        "  def __repr__(self):\n",
        "      return '{}()'.format(self.__class__.__name__)"
      ]
    },
    {
      "cell_type": "code",
      "execution_count": null,
      "metadata": {
        "id": "nOR_8ArmGvu2"
      },
      "outputs": [],
      "source": [
        "p = torch.randperm(len(dataset))\n",
        "\n",
        "train_length = int(np.round(0.8*len(dataset)))\n",
        "val_length = int(np.round(0.9*len(dataset)))\n",
        "\n",
        "p_train = p[:train_length]\n",
        "p_val = p[train_length:val_length]\n",
        "p_test = p[val_length:]\n",
        "\n",
        "hhs_train = RewiredDatasetEdgeIndex(data_hhs,p_train)\n",
        "hhs_val = RewiredDatasetEdgeIndex(data_hhs, p_val)\n",
        "hhs_test = RewiredDatasetEdgeIndex(data_hhs, p_test)\n",
        "\n",
        "sdrf_train = RewiredDatasetEdgeIndex(data_sdrf,p_train)\n",
        "sdrf_val = RewiredDatasetEdgeIndex(data_sdrf,p_val)\n",
        "sdrf_test = RewiredDatasetEdgeIndex(data_sdrf,p_test)\n",
        "\n",
        "fosr_train = RewiredDatasetEdgeIndex(data_fosr,p_train)\n",
        "fosr_val = RewiredDatasetEdgeIndex(data_fosr,p_val)\n",
        "fosr_test = RewiredDatasetEdgeIndex(data_fosr,p_test)\n",
        "\n",
        "gtr_train = RewiredDatasetEdgeIndex(data_gtr,p_train)\n",
        "gtr_val = RewiredDatasetEdgeIndex(data_gtr,p_val)\n",
        "gtr_test = RewiredDatasetEdgeIndex(data_gtr,p_test)\n",
        "\n",
        "empty_train = RewiredDatasetEdgeIndex(data_empty,p_train)\n",
        "empty_val = RewiredDatasetEdgeIndex(data_empty,p_val)\n",
        "empty_test = RewiredDatasetEdgeIndex(data_empty,p_test)\n",
        "\n",
        "full_train = RewiredDatasetEdgeIndex(data_full,p_train)\n",
        "full_val = RewiredDatasetEdgeIndex(data_full,p_val)\n",
        "full_test = RewiredDatasetEdgeIndex(data_full,p_test)\n",
        "\n",
        "none_train = RewiredDatasetEdgeIndex(data_none,p_train)\n",
        "none_val = RewiredDatasetEdgeIndex(data_none,p_val)\n",
        "none_test = RewiredDatasetEdgeIndex(data_none,p_test)"
      ]
    },
    {
      "cell_type": "code",
      "execution_count": null,
      "metadata": {
        "id": "VcScWr5GU2Sl"
      },
      "outputs": [],
      "source": [
        "torch.save((hhs_train, hhs_val, hhs_test),\"/content/drive/MyDrive/CubeRep-Rewiring/NNData/Zinc/hhs.pt\")\n",
        "torch.save((gtr_train, gtr_val, gtr_test),\"/content/drive/MyDrive/CubeRep-Rewiring/NNData/Zinc/gtr.pt\")\n",
        "torch.save((fosr_train, fosr_val, fosr_test),\"/content/drive/MyDrive/CubeRep-Rewiring/NNData/Zinc/fosr.pt\")\n",
        "torch.save((sdrf_train, sdrf_val, sdrf_test),\"/content/drive/MyDrive/CubeRep-Rewiring/NNData/Zinc/sdrf.pt\")\n",
        "torch.save((empty_train, empty_val, empty_test),\"/content/drive/MyDrive/CubeRep-Rewiring/NNData/Zinc/empty.pt\")\n",
        "torch.save((full_train, full_val, full_test),\"/content/drive/MyDrive/CubeRep-Rewiring/NNData/Zinc/full.pt\")\n",
        "torch.save((none_train, none_val, none_test),\"/content/drive/MyDrive/CubeRep-Rewiring/NNData/Zinc/none.pt\")\n",
        "torch.save(p, \"/content/drive/MyDrive/CubeRep-Rewiring/NNData/Zinc/permutation.pt\")"
      ]
    },
    {
      "cell_type": "code",
      "execution_count": null,
      "metadata": {
        "id": "4WQrwpHQF9_T"
      },
      "outputs": [],
      "source": [
        "hhs_train, hhs_val, hhs_test = torch.load(\"/content/drive/MyDrive/CubeRep-Rewiring/NNData/ESOL/hhs.pt\")\n",
        "gtr_train, gtr_val, gtr_test = torch.load(\"/content/drive/MyDrive/CubeRep-Rewiring/NNData/ESOL/gtr.pt\")\n",
        "fosr_train, fosr_val, fosr_test = torch.load(\"/content/drive/MyDrive/CubeRep-Rewiring/NNData/ESOL/fosr.pt\")\n",
        "sdrf_train, sdrf_val, sdrf_test = torch.load(\"/content/drive/MyDrive/CubeRep-Rewiring/NNData/ESOL/sdrf.pt\")\n",
        "empty_train, empty_val, empty_test = torch.load(\"/content/drive/MyDrive/CubeRep-Rewiring/NNData/ESOL/empty.pt\")\n",
        "full_train, full_val, full_test = torch.load(\"/content/drive/MyDrive/CubeRep-Rewiring/NNData/ESOL/full.pt\")\n",
        "none_train, none_val, none_test = torch.load(\"/content/drive/MyDrive/CubeRep-Rewiring/NNData/ESOL/none.pt\")\n",
        "# torch.save(p, \"/content/drive/MyDrive/CubeRep-Rewiring/NNData/PeptidesStruct/permutation.pt\")"
      ]
    },
    {
      "cell_type": "code",
      "execution_count": null,
      "metadata": {
        "colab": {
          "base_uri": "https://localhost:8080/",
          "height": 17
        },
        "id": "IDbXXZAlLI-Q",
        "outputId": "07d68436-ed6e-4021-878a-77230076f88b"
      },
      "outputs": [
        {
          "output_type": "display_data",
          "data": {
            "text/plain": [
              "<IPython.core.display.Javascript object>"
            ],
            "application/javascript": [
              "google.colab.output.setIframeHeight(0, true, {maxHeight: 300})"
            ]
          },
          "metadata": {}
        }
      ],
      "source": [
        "from IPython.display import Javascript\n",
        "display(Javascript('''google.colab.output.setIframeHeight(0, true, {maxHeight: 300})'''))\n",
        "from tqdm import tqdm\n",
        "from sklearn.metrics import average_precision_score\n",
        "\n",
        "\n",
        "# model = HHSConvNode(1703,5,128, hidden_dim = 128)\n",
        "# optimizer = torch.optim.Adam(model.parameters(), lr=2e-4, weight_decay = 0.01)\n",
        "# scheduler = torch.optim.lr_scheduler.CosineAnnealingLR(optimizer, 1000)\n",
        "\n",
        "path = \"./drive/MyDrive/CubeRep-Rewiring/Models/esol/\"\n",
        "\n",
        "def train(model, train_loader, val_loader, test_loader, filename, iterations = 200, criterion = torch.nn.BCEWithLogitsLoss()):\n",
        "  model.train()\n",
        "\n",
        "  optimizer = torch.optim.Adam(model.parameters())\n",
        "  scheduler = torch.optim.lr_scheduler.CosineAnnealingLR(optimizer, iterations)\n",
        "\n",
        "  for i in tqdm(range(iterations)):\n",
        "    model.train()\n",
        "    for data in train_loader:\n",
        "      optimizer.zero_grad()  # Clear gradients.\n",
        "      data = data.to('cuda')\n",
        "      out = model(data.x.float(), data.rewired_edge_index, data.batch).flatten() # Perform a single forward pass.\n",
        "      loss = criterion(out, data.y.float())  # Compute the loss.\n",
        "      loss.backward()  # Derive gradients.\n",
        "      optimizer.step()  # Update parameters based on gradients.\n",
        "    scheduler.step()\n",
        "    # if i % 10 == 0:\n",
        "    #   with torch.no_grad():\n",
        "    #     print(\"Trianing Error\", loss)\n",
        "    #     print(\"Train Acc\", test(model, train_loader))\n",
        "    #     print(\"Val Acc\", test(model, val_loader))\n",
        "    #     print(\"Test Acc\", test(model, test_loader))\n",
        "\n",
        "  with torch.no_grad():\n",
        "    torch.save(model,filename+str(iterations-1)+\".pt\")\n",
        "\n",
        "\n",
        "  return model\n",
        "\n",
        "def test(model, loader, edge_loader = None):\n",
        "  model.eval()\n",
        "\n",
        "  correct = 0\n",
        "  for data in loader:\n",
        "    data = data.to('cuda')\n",
        "    out = model(data.x.float(), data.rewired_edge_index, data.batch).flatten()\n",
        "    pred = (out.sign()/2 + 0.5).round().to(data.y.dtype)  # Use the class with highest probability.\n",
        "    correct += (pred == data.y).sum()/out.shape[0]\n",
        "  return correct / (len(loader)) # Derive ratio of correct predictions.\n",
        "\n",
        "def test_precision(model, loader):\n",
        "  model.eval()\n",
        "\n",
        "  correct = 0\n",
        "  for data in loader:\n",
        "    data = data.to('cuda')\n",
        "    out = model(data.x.float(), data.edge_index, data.batch).detach().cpu().sigmoid()\n",
        "    correct += average_precision_score(data.y.cpu(), out)\n",
        "  return correct / (len(loader)) # Derive ratio of correct predictions.\n",
        "\n",
        "def test_mse(model, loader):\n",
        "  model.eval()\n",
        "\n",
        "  correct = 0\n",
        "  for data in loader:\n",
        "    data = data.to('cuda')\n",
        "    out = model(data.x.float(), data.rewired_edge_index, data.batch).flatten()\n",
        "    correct += torch.nn.functional.mse_loss(out,data.y.flatten())\n",
        "  return correct / (len(loader)) # Derive ratio of correct predictions.\n",
        "\n",
        "def test_acc(model, loader, edge_loader = None):\n",
        "  model.eval()\n",
        "\n",
        "  correct = 0\n",
        "  for data in loader:\n",
        "    data = data.to('cuda')\n",
        "    out = model(data.x.float(), data.edge_index, data.batch).argmax(dim=-1)\n",
        "    correct += (out == data.y).sum()/out.shape[0]\n",
        "  return correct / (len(loader)) # Derive ratio of correct predictions."
      ]
    },
    {
      "cell_type": "code",
      "execution_count": null,
      "metadata": {
        "colab": {
          "base_uri": "https://localhost:8080/"
        },
        "id": "DmRuETIaTXaW",
        "outputId": "97ed14a8-6d6d-4b72-eb22-3a05625f2950"
      },
      "outputs": [
        {
          "output_type": "stream",
          "name": "stdout",
          "text": [
            "none   GCN   tensor(1.6221) tensor(1.6890) tensor(1.9130)\n",
            "full   GCN   tensor(1.3928) tensor(1.4990) tensor(1.5465)\n",
            "empty   GCN   tensor(1.3926) tensor(1.5952) tensor(1.7065)\n",
            "hhs   GCN   tensor(1.4663) tensor(1.2417) tensor(1.4254)\n",
            "fosr   GCN   tensor(1.3738) tensor(1.2794) tensor(1.4654)\n",
            "gtr   GCN   tensor(1.1890) tensor(1.1356) tensor(1.5896)\n",
            "sdrf   GCN   tensor(1.4299) tensor(1.5098) tensor(1.6752)\n",
            "none   GCN   tensor(1.5025) tensor(1.4615) tensor(1.6387)\n",
            "full   GCN   tensor(1.7871) tensor(2.0032) tensor(1.8808)\n",
            "empty   GCN   tensor(1.3850) tensor(1.5115) tensor(1.6503)\n",
            "hhs   GCN   tensor(1.3482) tensor(1.1815) tensor(1.4656)\n",
            "fosr   GCN   tensor(1.4973) tensor(1.4103) tensor(1.5395)\n",
            "gtr   GCN   tensor(1.4872) tensor(1.4601) tensor(1.7534)\n",
            "sdrf   GCN   tensor(1.3339) tensor(1.4402) tensor(1.5896)\n",
            "none   GCN   tensor(1.6188) tensor(1.6113) tensor(1.8911)\n",
            "full   GCN   tensor(1.6103) tensor(1.8606) tensor(1.8136)\n",
            "empty   GCN   tensor(1.5026) tensor(1.5746) tensor(1.8294)\n",
            "hhs   GCN   tensor(1.4732) tensor(1.2952) tensor(1.4824)\n",
            "fosr   GCN   tensor(1.3840) tensor(1.1493) tensor(1.3430)\n",
            "gtr   GCN   tensor(1.3652) tensor(1.2675) tensor(1.6442)\n",
            "sdrf   GCN   tensor(1.3707) tensor(1.3774) tensor(1.7482)\n",
            "none   GCN   tensor(1.5198) tensor(1.5153) tensor(1.6446)\n",
            "full   GCN   tensor(1.4017) tensor(1.5523) tensor(1.5612)\n",
            "empty   GCN   tensor(1.5347) tensor(1.6769) tensor(1.8593)\n",
            "hhs   GCN   tensor(1.3774) tensor(1.0887) tensor(1.2910)\n",
            "fosr   GCN   tensor(1.3694) tensor(1.3135) tensor(1.3573)\n",
            "gtr   GCN   tensor(1.0589) tensor(1.0379) tensor(1.4255)\n",
            "sdrf   GCN   tensor(1.5929) tensor(1.6777) tensor(1.8448)\n",
            "none   GCN   tensor(1.6189) tensor(1.6572) tensor(1.9404)\n",
            "full   GCN   tensor(1.5566) tensor(1.8345) tensor(1.7024)\n",
            "empty   GCN   tensor(1.5281) tensor(1.5973) tensor(1.9577)\n",
            "hhs   GCN   tensor(1.5009) tensor(1.2953) tensor(1.5051)\n",
            "fosr   GCN   tensor(1.2740) tensor(1.0943) tensor(1.2817)\n",
            "gtr   GCN   tensor(1.1149) tensor(1.0294) tensor(1.4822)\n",
            "sdrf   GCN   tensor(1.3796) tensor(1.5419) tensor(1.8219)\n",
            "none   Graph   tensor(0.6840) tensor(0.9783) tensor(1.0318)\n",
            "full   Graph   tensor(0.7454) tensor(1.1167) tensor(1.1002)\n",
            "empty   Graph   tensor(1.6418) tensor(1.7486) tensor(1.9624)\n",
            "hhs   Graph   tensor(0.6106) tensor(1.0194) tensor(1.0330)\n",
            "fosr   Graph   tensor(0.6218) tensor(0.8513) tensor(1.0779)\n",
            "gtr   Graph   tensor(0.4874) tensor(0.7196) tensor(0.9035)\n",
            "sdrf   Graph   tensor(0.7692) tensor(1.1710) tensor(1.1824)\n",
            "none   Graph   tensor(0.7598) tensor(0.9833) tensor(1.3364)\n",
            "full   Graph   tensor(0.7343) tensor(1.2698) tensor(0.8828)\n",
            "empty   Graph   tensor(1.4370) tensor(1.5463) tensor(1.7448)\n",
            "hhs   Graph   tensor(0.5285) tensor(0.8384) tensor(0.9580)\n",
            "fosr   Graph   tensor(0.5135) tensor(0.7525) tensor(0.7920)\n",
            "gtr   Graph   tensor(0.5208) tensor(0.8541) tensor(0.9136)\n",
            "sdrf   Graph   tensor(0.7261) tensor(1.0805) tensor(1.1880)\n",
            "none   Graph   tensor(0.7479) tensor(0.9440) tensor(1.1314)\n",
            "full   Graph   tensor(0.7338) tensor(1.0992) tensor(0.9194)\n",
            "empty   Graph   tensor(1.4428) tensor(1.5368) tensor(1.7725)\n",
            "hhs   Graph   tensor(0.5276) tensor(0.7786) tensor(0.9803)\n",
            "fosr   Graph   tensor(0.5250) tensor(0.7078) tensor(0.9485)\n",
            "gtr   Graph   tensor(0.5167) tensor(0.7748) tensor(0.9552)\n",
            "sdrf   Graph   tensor(0.6800) tensor(1.0263) tensor(0.9834)\n",
            "none   Graph   tensor(0.7404) tensor(0.9404) tensor(1.1399)\n",
            "full   Graph   tensor(0.5560) tensor(1.0305) tensor(0.8789)\n",
            "empty   Graph   tensor(1.4780) tensor(1.6150) tensor(1.8747)\n",
            "hhs   Graph   tensor(0.5460) tensor(0.8630) tensor(1.0639)\n",
            "fosr   Graph   tensor(0.5414) tensor(0.7692) tensor(0.9562)\n",
            "gtr   Graph   tensor(0.5289) tensor(0.8344) tensor(0.8769)\n",
            "sdrf   Graph   tensor(0.6982) tensor(1.1323) tensor(1.0420)\n",
            "none   Graph   tensor(0.7237) tensor(0.8977) tensor(1.1773)\n",
            "full   Graph   tensor(0.6876) tensor(1.1184) tensor(0.8771)\n",
            "empty   Graph   tensor(1.4890) tensor(1.6172) tensor(1.7693)\n",
            "hhs   Graph   tensor(0.5873) tensor(0.9920) tensor(1.0229)\n",
            "fosr   Graph   tensor(0.5160) tensor(0.6670) tensor(0.9054)\n",
            "gtr   Graph   tensor(0.5774) tensor(0.7192) tensor(1.0317)\n",
            "sdrf   Graph   tensor(0.6519) tensor(1.1833) tensor(0.9297)\n",
            "none   GAT   tensor(1.2567) tensor(1.2190) tensor(1.4060)\n",
            "full   GAT   tensor(1.1910) tensor(1.4905) tensor(1.8889)\n",
            "empty   GAT   tensor(1.3989) tensor(1.5607) tensor(1.6738)\n",
            "hhs   GAT   tensor(1.3025) tensor(1.1335) tensor(1.7369)\n",
            "fosr   GAT   tensor(1.1901) tensor(1.1379) tensor(1.5493)\n",
            "gtr   GAT   tensor(0.9325) tensor(0.9272) tensor(1.4543)\n",
            "sdrf   GAT   tensor(1.3158) tensor(1.6307) tensor(1.5461)\n",
            "none   GAT   tensor(1.0271) tensor(1.1582) tensor(1.5244)\n",
            "full   GAT   tensor(2.0674) tensor(1.8018) tensor(2.4953)\n",
            "empty   GAT   tensor(1.4171) tensor(1.5891) tensor(1.6533)\n",
            "hhs   GAT   tensor(2.1170) tensor(1.9437) tensor(2.3767)\n",
            "fosr   GAT   tensor(1.3053) tensor(1.0824) tensor(1.7097)\n",
            "gtr   GAT   tensor(0.8102) tensor(0.7439) tensor(1.3235)\n",
            "sdrf   GAT   tensor(1.8950) tensor(1.7675) tensor(2.1118)\n",
            "none   GAT   tensor(1.0593) tensor(1.0266) tensor(1.3337)\n",
            "full   GAT   tensor(2.8935) tensor(2.8876) tensor(2.9431)\n",
            "empty   GAT   tensor(1.4037) tensor(1.4939) tensor(1.6754)\n",
            "hhs   GAT   tensor(1.3744) tensor(1.2407) tensor(1.6869)\n",
            "fosr   GAT   tensor(1.2305) tensor(0.9960) tensor(1.5164)\n",
            "gtr   GAT   tensor(0.8635) tensor(0.8039) tensor(1.1180)\n",
            "sdrf   GAT   tensor(1.5677) tensor(1.5760) tensor(1.8674)\n",
            "none   GAT   tensor(1.2509) tensor(1.4898) tensor(1.9007)\n",
            "full   GAT   tensor(1.3512) tensor(1.4078) tensor(1.4641)\n",
            "empty   GAT   tensor(1.4846) tensor(1.6340) tensor(1.8684)\n",
            "hhs   GAT   tensor(1.1782) tensor(0.9794) tensor(1.5003)\n",
            "fosr   GAT   tensor(0.8277) tensor(0.8167) tensor(1.0366)\n",
            "gtr   GAT   tensor(1.3135) tensor(1.0914) tensor(1.3318)\n",
            "sdrf   GAT   tensor(1.5434) tensor(1.8916) tensor(1.9285)\n",
            "none   GAT   tensor(1.2339) tensor(1.2657) tensor(1.4223)\n",
            "full   GAT   tensor(1.3308) tensor(1.7312) tensor(1.8594)\n",
            "empty   GAT   tensor(1.3578) tensor(1.5013) tensor(1.5784)\n",
            "hhs   GAT   tensor(1.4826) tensor(1.2137) tensor(1.8444)\n",
            "fosr   GAT   tensor(1.3729) tensor(1.2422) tensor(1.6104)\n",
            "gtr   GAT   tensor(0.7962) tensor(0.7845) tensor(1.2908)\n",
            "sdrf   GAT   tensor(2.2320) tensor(2.8711) tensor(2.5517)\n",
            "none   GIN   tensor(0.9618) tensor(1.0652) tensor(1.5851)\n",
            "full   GIN   tensor(0.7039) tensor(1.0274) tensor(0.8858)\n",
            "empty   GIN   tensor(1.2113) tensor(1.4636) tensor(1.3738)\n",
            "hhs   GIN   tensor(0.6484) tensor(1.0513) tensor(1.2690)\n",
            "fosr   GIN   tensor(0.7589) tensor(1.0292) tensor(1.7020)\n",
            "gtr   GIN   tensor(0.5323) tensor(0.7633) tensor(1.3536)\n",
            "sdrf   GIN   tensor(0.8703) tensor(1.3663) tensor(1.5293)\n",
            "none   GIN   tensor(0.8111) tensor(1.2454) tensor(1.2855)\n",
            "full   GIN   tensor(0.9282) tensor(1.3158) tensor(0.9736)\n",
            "empty   GIN   tensor(1.1615) tensor(1.4206) tensor(1.3497)\n",
            "hhs   GIN   tensor(0.5598) tensor(1.1045) tensor(1.7313)\n",
            "fosr   GIN   tensor(0.6046) tensor(0.8291) tensor(1.1798)\n",
            "gtr   GIN   tensor(0.5125) tensor(0.8532) tensor(1.5777)\n",
            "sdrf   GIN   tensor(0.9044) tensor(1.3879) tensor(1.4246)\n",
            "none   GIN   tensor(0.8739) tensor(1.1376) tensor(1.3443)\n",
            "full   GIN   tensor(0.8336) tensor(1.1112) tensor(1.0259)\n",
            "empty   GIN   tensor(1.2750) tensor(1.4668) tensor(1.6181)\n",
            "hhs   GIN   tensor(0.5060) tensor(1.0473) tensor(1.4739)\n",
            "fosr   GIN   tensor(0.6128) tensor(0.8790) tensor(1.0698)\n",
            "gtr   GIN   tensor(0.6060) tensor(0.8190) tensor(1.8096)\n",
            "sdrf   GIN   tensor(0.8752) tensor(1.4460) tensor(1.6784)\n",
            "none   GIN   tensor(0.8589) tensor(1.1710) tensor(1.3522)\n",
            "full   GIN   tensor(0.8060) tensor(1.2194) tensor(0.9668)\n",
            "empty   GIN   tensor(1.2372) tensor(1.4570) tensor(1.4666)\n",
            "hhs   GIN   tensor(0.5661) tensor(0.8758) tensor(1.0355)\n",
            "fosr   GIN   tensor(0.7044) tensor(1.0633) tensor(1.0926)\n",
            "gtr   GIN   tensor(0.6615) tensor(0.9560) tensor(1.3865)\n",
            "sdrf   GIN   tensor(0.9453) tensor(1.5921) tensor(1.4561)\n",
            "none   GIN   tensor(0.9265) tensor(1.2670) tensor(1.3565)\n",
            "full   GIN   tensor(0.6437) tensor(1.0761) tensor(0.8944)\n",
            "empty   GIN   tensor(1.2066) tensor(1.4145) tensor(1.5201)\n",
            "hhs   GIN   tensor(0.5711) tensor(1.0753) tensor(1.1507)\n",
            "fosr   GIN   tensor(0.5751) tensor(0.9244) tensor(1.1458)\n",
            "gtr   GIN   tensor(0.6017) tensor(0.8587) tensor(1.2658)\n",
            "sdrf   GIN   tensor(1.0364) tensor(1.5841) tensor(1.7075)\n",
            "none   GCN   tensor(1.2819) tensor(1.3963) tensor(1.7177)\n",
            "full   GCN   tensor(0.9645) tensor(1.0727) tensor(1.3695)\n",
            "empty   GCN   tensor(1.2781) tensor(1.4901) tensor(1.5297)\n",
            "hhs   GCN   tensor(1.2285) tensor(0.9982) tensor(1.3818)\n",
            "fosr   GCN   tensor(1.2701) tensor(1.0442) tensor(1.4061)\n",
            "gtr   GCN   tensor(0.8064) tensor(0.7580) tensor(1.2101)\n",
            "sdrf   GCN   tensor(1.2891) tensor(1.4145) tensor(1.5946)\n",
            "none   GCN   tensor(1.0460) tensor(1.0533) tensor(1.3391)\n",
            "full   GCN   tensor(1.0957) tensor(1.2277) tensor(1.4038)\n",
            "empty   GCN   tensor(1.2588) tensor(1.4202) tensor(1.5317)\n",
            "hhs   GCN   tensor(1.1360) tensor(0.9825) tensor(1.3743)\n",
            "fosr   GCN   tensor(1.1511) tensor(0.9646) tensor(1.3609)\n",
            "gtr   GCN   tensor(0.8111) tensor(0.7977) tensor(1.3054)\n",
            "sdrf   GCN   tensor(1.1165) tensor(1.2129) tensor(1.3240)\n",
            "none   GCN   tensor(1.2387) tensor(1.2478) tensor(1.4244)\n",
            "full   GCN   tensor(0.9899) tensor(1.1985) tensor(1.3683)\n",
            "empty   GCN   tensor(1.2882) tensor(1.4288) tensor(1.5684)\n",
            "hhs   GCN   tensor(1.2511) tensor(1.0830) tensor(1.4947)\n",
            "fosr   GCN   tensor(1.2395) tensor(1.0181) tensor(1.3265)\n",
            "gtr   GCN   tensor(1.0178) tensor(1.0077) tensor(1.4154)\n",
            "sdrf   GCN   tensor(1.0735) tensor(1.1215) tensor(1.3224)\n",
            "none   GCN   tensor(1.2191) tensor(1.2357) tensor(1.4872)\n",
            "full   GCN   tensor(1.0521) tensor(1.1654) tensor(1.3427)\n",
            "empty   GCN   tensor(1.2799) tensor(1.4761) tensor(1.5387)\n",
            "hhs   GCN   tensor(1.2929) tensor(1.0120) tensor(1.4031)\n",
            "fosr   GCN   tensor(1.0888) tensor(0.9021) tensor(1.2229)\n",
            "gtr   GCN   tensor(0.8121) tensor(0.8260) tensor(1.3194)\n",
            "sdrf   GCN   tensor(1.1213) tensor(1.2554) tensor(1.3759)\n",
            "none   GCN   tensor(1.0353) tensor(1.0282) tensor(1.2098)\n",
            "full   GCN   tensor(1.2599) tensor(1.2777) tensor(1.4406)\n",
            "empty   GCN   tensor(1.3437) tensor(1.5188) tensor(1.6805)\n",
            "hhs   GCN   tensor(1.3185) tensor(1.1117) tensor(1.5808)\n",
            "fosr   GCN   tensor(1.2574) tensor(1.0311) tensor(1.4389)\n",
            "gtr   GCN   tensor(0.8321) tensor(0.8109) tensor(1.1474)\n",
            "sdrf   GCN   tensor(1.0913) tensor(1.2399) tensor(1.5812)\n",
            "none   Graph   tensor(0.4231) tensor(0.6327) tensor(0.7188)\n",
            "full   Graph   tensor(1.3987) tensor(1.4760) tensor(1.4559)\n",
            "empty   Graph   tensor(1.3130) tensor(1.3933) tensor(1.5988)\n",
            "hhs   Graph   tensor(0.3874) tensor(0.6803) tensor(0.8959)\n",
            "fosr   Graph   tensor(0.3256) tensor(0.6339) tensor(1.0048)\n",
            "gtr   Graph   tensor(0.3504) tensor(0.5919) tensor(0.7291)\n",
            "sdrf   Graph   tensor(0.4017) tensor(0.9777) tensor(0.9667)\n",
            "none   Graph   tensor(0.3366) tensor(0.6466) tensor(0.7639)\n",
            "full   Graph   tensor(1.6878) tensor(2.1918) tensor(1.6475)\n",
            "empty   Graph   tensor(1.3778) tensor(1.5128) tensor(1.6743)\n",
            "hhs   Graph   tensor(0.3047) tensor(0.7694) tensor(0.8697)\n",
            "fosr   Graph   tensor(0.3618) tensor(0.6082) tensor(1.1216)\n",
            "gtr   Graph   tensor(0.3660) tensor(0.7021) tensor(0.8726)\n",
            "sdrf   Graph   tensor(0.4205) tensor(0.9861) tensor(0.8631)\n",
            "none   Graph   tensor(0.4078) tensor(0.6969) tensor(0.9455)\n",
            "full   Graph   tensor(1.0260) tensor(1.8677) tensor(3.8939)\n",
            "empty   Graph   tensor(1.2385) tensor(1.4420) tensor(1.5055)\n",
            "hhs   Graph   tensor(0.3661) tensor(0.8371) tensor(0.8066)\n",
            "fosr   Graph   tensor(0.3097) tensor(0.5492) tensor(0.7988)\n",
            "gtr   Graph   tensor(0.3823) tensor(0.5363) tensor(0.8632)\n",
            "sdrf   Graph   tensor(0.4541) tensor(0.9351) tensor(1.1285)\n",
            "none   Graph   tensor(0.3681) tensor(0.5447) tensor(0.6382)\n",
            "full   Graph   tensor(0.8294) tensor(1.7850) tensor(1.4212)\n",
            "empty   Graph   tensor(1.2378) tensor(1.4717) tensor(1.4721)\n",
            "hhs   Graph   tensor(0.3123) tensor(0.7534) tensor(0.8406)\n",
            "fosr   Graph   tensor(0.3374) tensor(0.6498) tensor(0.7954)\n",
            "gtr   Graph   tensor(0.3414) tensor(0.6159) tensor(0.9187)\n",
            "sdrf   Graph   tensor(0.4940) tensor(1.0126) tensor(1.1157)\n",
            "none   Graph   tensor(0.4447) tensor(0.6406) tensor(0.7001)\n",
            "full   Graph   tensor(0.9779) tensor(1.3552) tensor(1.2821)\n",
            "empty   Graph   tensor(1.3547) tensor(1.4877) tensor(1.6583)\n",
            "hhs   Graph   tensor(0.3710) tensor(0.7442) tensor(0.9583)\n",
            "fosr   Graph   tensor(0.3942) tensor(0.5665) tensor(0.8252)\n",
            "gtr   Graph   tensor(0.3598) tensor(0.5879) tensor(0.8326)\n",
            "sdrf   Graph   tensor(0.4547) tensor(1.0214) tensor(1.0995)\n",
            "none   GAT   tensor(0.5133) tensor(0.4569) tensor(0.8048)\n",
            "full   GAT   tensor(1.0838) tensor(1.3774) tensor(1.5106)\n",
            "empty   GAT   tensor(1.3025) tensor(1.4562) tensor(1.5635)\n",
            "hhs   GAT   tensor(1.0952) tensor(1.1009) tensor(1.5549)\n",
            "fosr   GAT   tensor(0.9689) tensor(0.8842) tensor(1.2683)\n",
            "gtr   GAT   tensor(1.6676) tensor(1.2462) tensor(2.0741)\n",
            "sdrf   GAT   tensor(1.2641) tensor(1.2761) tensor(1.4564)\n",
            "none   GAT   tensor(0.6891) tensor(0.6320) tensor(0.9064)\n",
            "full   GAT   tensor(1.1218) tensor(1.4238) tensor(1.6901)\n",
            "empty   GAT   tensor(1.2466) tensor(1.4135) tensor(1.4724)\n",
            "hhs   GAT   tensor(0.9673) tensor(0.7575) tensor(1.4433)\n",
            "fosr   GAT   tensor(0.9125) tensor(0.8883) tensor(1.0792)\n",
            "gtr   GAT   tensor(0.8536) tensor(0.8438) tensor(1.2120)\n",
            "sdrf   GAT   tensor(1.0157) tensor(0.9362) tensor(1.4710)\n",
            "none   GAT   tensor(1.0808) tensor(1.0155) tensor(1.5426)\n",
            "full   GAT   tensor(0.8516) tensor(0.8460) tensor(1.0874)\n",
            "empty   GAT   tensor(1.3199) tensor(1.4882) tensor(1.5691)\n",
            "hhs   GAT   tensor(1.5268) tensor(1.2595) tensor(2.1014)\n",
            "fosr   GAT   tensor(0.9998) tensor(0.9308) tensor(1.4103)\n",
            "gtr   GAT   tensor(0.7091) tensor(0.6657) tensor(1.0252)\n",
            "sdrf   GAT   tensor(0.7843) tensor(1.0206) tensor(1.2086)\n",
            "none   GAT   tensor(1.1008) tensor(0.9572) tensor(1.6576)\n",
            "full   GAT   tensor(2.8480) tensor(2.6941) tensor(2.9033)\n",
            "empty   GAT   tensor(1.2276) tensor(1.4198) tensor(1.4392)\n",
            "hhs   GAT   tensor(1.2188) tensor(0.9823) tensor(1.8492)\n",
            "fosr   GAT   tensor(0.8449) tensor(0.7500) tensor(1.3473)\n",
            "gtr   GAT   tensor(0.7450) tensor(0.7048) tensor(1.0768)\n",
            "sdrf   GAT   tensor(1.2445) tensor(1.4007) tensor(1.6173)\n",
            "none   GAT   tensor(0.8999) tensor(0.8186) tensor(1.2661)\n",
            "full   GAT   tensor(0.8510) tensor(0.9846) tensor(1.1349)\n",
            "empty   GAT   tensor(1.3243) tensor(1.4779) tensor(1.5631)\n",
            "hhs   GAT   tensor(0.9261) tensor(0.8102) tensor(1.4150)\n",
            "fosr   GAT   tensor(0.8554) tensor(0.7360) tensor(1.1155)\n",
            "gtr   GAT   tensor(0.8038) tensor(0.6442) tensor(0.9250)\n",
            "sdrf   GAT   tensor(0.8655) tensor(0.8301) tensor(1.3319)\n",
            "none   GIN   tensor(0.7205) tensor(1.0734) tensor(1.6063)\n",
            "full   GIN   tensor(1.0275) tensor(1.6400) tensor(1.8989)\n",
            "empty   GIN   tensor(1.1471) tensor(1.4317) tensor(1.3215)\n",
            "hhs   GIN   tensor(0.3206) tensor(0.6144) tensor(1.0331)\n",
            "fosr   GIN   tensor(0.2533) tensor(0.5647) tensor(0.8322)\n",
            "gtr   GIN   tensor(0.3739) tensor(0.7586) tensor(1.0630)\n",
            "sdrf   GIN   tensor(0.4196) tensor(1.3163) tensor(1.4318)\n",
            "none   GIN   tensor(0.7170) tensor(1.2001) tensor(1.5837)\n",
            "full   GIN   tensor(0.7816) tensor(1.1157) tensor(0.9545)\n",
            "empty   GIN   tensor(1.1801) tensor(1.3715) tensor(1.4942)\n",
            "hhs   GIN   tensor(0.3358) tensor(0.8625) tensor(1.0127)\n",
            "fosr   GIN   tensor(0.2930) tensor(0.5297) tensor(0.9336)\n",
            "gtr   GIN   tensor(0.3479) tensor(0.7062) tensor(1.7035)\n",
            "sdrf   GIN   tensor(0.5898) tensor(1.1660) tensor(1.6196)\n",
            "none   GIN   tensor(0.6989) tensor(0.9531) tensor(1.2035)\n",
            "full   GIN   tensor(0.9244) tensor(1.2123) tensor(1.0799)\n",
            "empty   GIN   tensor(1.2318) tensor(1.4510) tensor(1.4638)\n",
            "hhs   GIN   tensor(0.3742) tensor(0.7001) tensor(0.8986)\n",
            "fosr   GIN   tensor(0.4209) tensor(0.5312) tensor(1.0886)\n",
            "gtr   GIN   tensor(0.2973) tensor(0.5740) tensor(1.1332)\n",
            "sdrf   GIN   tensor(0.6397) tensor(1.4980) tensor(1.2266)\n",
            "none   GIN   tensor(0.6136) tensor(0.8994) tensor(1.4695)\n",
            "full   GIN   tensor(1.1589) tensor(1.5173) tensor(1.2525)\n",
            "empty   GIN   tensor(1.1552) tensor(1.4692) tensor(1.3985)\n",
            "hhs   GIN   tensor(0.3443) tensor(0.8499) tensor(1.1484)\n",
            "fosr   GIN   tensor(0.3742) tensor(0.7616) tensor(0.6957)\n",
            "gtr   GIN   tensor(0.4215) tensor(0.7160) tensor(1.4296)\n",
            "sdrf   GIN   tensor(0.7926) tensor(1.4594) tensor(1.4820)\n",
            "none   GIN   tensor(0.6920) tensor(1.0778) tensor(1.4295)\n",
            "full   GIN   tensor(1.2957) tensor(1.7042) tensor(1.7019)\n",
            "empty   GIN   tensor(1.2025) tensor(1.4320) tensor(1.5258)\n",
            "hhs   GIN   tensor(0.3143) tensor(0.7027) tensor(0.8288)\n",
            "fosr   GIN   tensor(0.3427) tensor(0.6336) tensor(0.7936)\n",
            "gtr   GIN   tensor(0.3676) tensor(0.7519) tensor(1.2214)\n",
            "sdrf   GIN   tensor(0.6852) tensor(1.6944) tensor(1.2632)\n",
            "none   GCN   tensor(1.1239) tensor(1.1401) tensor(1.4214)\n",
            "full   GCN   tensor(0.9115) tensor(0.9583) tensor(1.4081)\n",
            "empty   GCN   tensor(1.1946) tensor(1.3777) tensor(1.4099)\n",
            "hhs   GCN   tensor(0.9621) tensor(0.8522) tensor(1.2023)\n",
            "fosr   GCN   tensor(0.9415) tensor(0.9210) tensor(1.6355)\n",
            "gtr   GCN   tensor(0.7673) tensor(0.7694) tensor(1.3505)\n",
            "sdrf   GCN   tensor(0.9100) tensor(1.1126) tensor(1.3177)\n",
            "none   GCN   tensor(0.9431) tensor(1.0426) tensor(1.0922)\n",
            "full   GCN   tensor(0.7946) tensor(0.9980) tensor(1.6796)\n",
            "empty   GCN   tensor(1.1799) tensor(1.4604) tensor(1.3831)\n",
            "hhs   GCN   tensor(0.9094) tensor(0.8654) tensor(1.4553)\n",
            "fosr   GCN   tensor(1.0960) tensor(0.9746) tensor(1.4394)\n",
            "gtr   GCN   tensor(0.6863) tensor(0.8246) tensor(1.3981)\n",
            "sdrf   GCN   tensor(0.9110) tensor(1.0452) tensor(1.6567)\n",
            "none   GCN   tensor(0.8780) tensor(0.9613) tensor(1.2780)\n",
            "full   GCN   tensor(0.9997) tensor(1.1736) tensor(1.3178)\n",
            "empty   GCN   tensor(1.2292) tensor(1.5308) tensor(1.4779)\n",
            "hhs   GCN   tensor(1.1168) tensor(0.9851) tensor(1.3333)\n",
            "fosr   GCN   tensor(1.0610) tensor(1.0000) tensor(1.4999)\n",
            "gtr   GCN   tensor(0.6686) tensor(0.7056) tensor(1.2541)\n",
            "sdrf   GCN   tensor(0.8463) tensor(0.9844) tensor(1.0983)\n",
            "none   GCN   tensor(0.8209) tensor(0.8904) tensor(0.9434)\n",
            "full   GCN   tensor(0.9194) tensor(1.1418) tensor(1.4720)\n",
            "empty   GCN   tensor(1.2336) tensor(1.4633) tensor(1.5063)\n",
            "hhs   GCN   tensor(0.9717) tensor(0.9640) tensor(1.1478)\n",
            "fosr   GCN   tensor(1.0306) tensor(1.0052) tensor(1.4727)\n",
            "gtr   GCN   tensor(0.8433) tensor(0.7439) tensor(1.4049)\n",
            "sdrf   GCN   tensor(0.8996) tensor(0.9411) tensor(1.2318)\n",
            "none   GCN   tensor(0.8561) tensor(0.9626) tensor(1.3585)\n",
            "full   GCN   tensor(1.0799) tensor(1.1772) tensor(1.4671)\n",
            "empty   GCN   tensor(1.1933) tensor(1.4268) tensor(1.4648)\n",
            "hhs   GCN   tensor(0.9146) tensor(0.9201) tensor(1.1663)\n",
            "fosr   GCN   tensor(0.9630) tensor(0.9829) tensor(1.5625)\n",
            "gtr   GCN   tensor(0.7638) tensor(0.7557) tensor(1.3135)\n",
            "sdrf   GCN   tensor(0.9370) tensor(1.0792) tensor(1.2688)\n",
            "none   Graph   tensor(0.3013) tensor(0.8569) tensor(0.6951)\n",
            "full   Graph   tensor(2.2098) tensor(2.2022) tensor(3.0612)\n",
            "empty   Graph   tensor(1.2224) tensor(1.3895) tensor(1.4251)\n",
            "hhs   Graph   tensor(0.3152) tensor(0.7661) tensor(1.0116)\n",
            "fosr   Graph   tensor(0.2569) tensor(0.5392) tensor(0.8524)\n",
            "gtr   Graph   tensor(0.2718) tensor(0.7967) tensor(0.6398)\n",
            "sdrf   Graph   tensor(0.3092) tensor(0.9847) tensor(0.9779)\n",
            "none   Graph   tensor(0.2862) tensor(0.7950) tensor(0.6369)\n",
            "full   Graph   tensor(6.4046) tensor(2.4417) tensor(2.4352)\n",
            "empty   Graph   tensor(1.2164) tensor(1.4820) tensor(1.4933)\n",
            "hhs   Graph   tensor(0.2442) tensor(0.5967) tensor(0.7278)\n",
            "fosr   Graph   tensor(0.2580) tensor(0.8659) tensor(0.8190)\n",
            "gtr   Graph   tensor(0.2650) tensor(0.8171) tensor(0.8222)\n",
            "sdrf   Graph   tensor(0.2805) tensor(1.1437) tensor(0.9564)\n",
            "none   Graph   tensor(0.2575) tensor(1.0879) tensor(0.7931)\n",
            "full   Graph   tensor(175.1304) tensor(305.9161) tensor(4190.2632)\n",
            "empty   Graph   tensor(1.1720) tensor(1.3863) tensor(1.4265)\n",
            "hhs   Graph   tensor(0.2814) tensor(0.8456) tensor(0.7330)\n",
            "fosr   Graph   tensor(0.1932) tensor(0.6672) tensor(0.8426)\n",
            "gtr   Graph   tensor(0.3304) tensor(0.7576) tensor(0.8697)\n",
            "sdrf   Graph   tensor(0.2790) tensor(1.2345) tensor(0.8561)\n",
            "none   Graph   tensor(0.2700) tensor(0.6342) tensor(0.8429)\n",
            "full   Graph   tensor(2.3390) tensor(5.1938) tensor(2.9441)\n",
            "empty   Graph   tensor(1.1664) tensor(1.4024) tensor(1.3801)\n",
            "hhs   Graph   tensor(0.2188) tensor(0.7285) tensor(0.7774)\n",
            "fosr   Graph   tensor(0.1863) tensor(0.7359) tensor(0.8698)\n",
            "gtr   Graph   tensor(0.3421) tensor(0.8034) tensor(0.7799)\n",
            "sdrf   Graph   tensor(0.3320) tensor(1.1155) tensor(0.9722)\n",
            "none   Graph   tensor(0.2719) tensor(0.6031) tensor(1.4151)\n",
            "full   Graph   tensor(101.0098) tensor(124.3471) tensor(1264.6002)\n",
            "empty   Graph   tensor(1.1729) tensor(1.4955) tensor(1.4000)\n",
            "hhs   Graph   tensor(0.2443) tensor(0.7927) tensor(0.6673)\n",
            "fosr   Graph   tensor(0.1454) tensor(0.7288) tensor(0.7970)\n",
            "gtr   Graph   tensor(0.2556) tensor(0.6456) tensor(0.6820)\n",
            "sdrf   Graph   tensor(0.2059) tensor(1.0979) tensor(0.8848)\n",
            "none   GAT   tensor(0.6770) tensor(0.5390) tensor(1.0417)\n",
            "full   GAT   tensor(2.8853) tensor(2.8118) tensor(2.9359)\n",
            "empty   GAT   tensor(1.2159) tensor(1.4489) tensor(1.5109)\n",
            "hhs   GAT   tensor(1.7094) tensor(1.2876) tensor(2.2907)\n",
            "fosr   GAT   tensor(0.7009) tensor(0.6868) tensor(1.0006)\n",
            "gtr   GAT   tensor(0.6544) tensor(0.7040) tensor(1.0676)\n",
            "sdrf   GAT   tensor(2.1686) tensor(2.0718) tensor(2.5407)\n",
            "none   GAT   tensor(0.7034) tensor(0.8007) tensor(0.8649)\n",
            "full   GAT   tensor(0.9461) tensor(0.9133) tensor(1.4072)\n",
            "empty   GAT   tensor(1.2191) tensor(1.4664) tensor(1.4363)\n",
            "hhs   GAT   tensor(0.8140) tensor(0.7515) tensor(1.0073)\n",
            "fosr   GAT   tensor(1.2907) tensor(0.8588) tensor(1.7610)\n",
            "gtr   GAT   tensor(0.5682) tensor(0.5933) tensor(1.0954)\n",
            "sdrf   GAT   tensor(1.6146) tensor(1.5814) tensor(2.1875)\n",
            "none   GAT   tensor(0.7295) tensor(0.9525) tensor(0.8672)\n",
            "full   GAT   tensor(1.8418) tensor(1.4467) tensor(2.2589)\n",
            "empty   GAT   tensor(1.2088) tensor(1.4511) tensor(1.4534)\n",
            "hhs   GAT   tensor(0.7215) tensor(0.6710) tensor(1.3832)\n",
            "fosr   GAT   tensor(1.5700) tensor(1.2467) tensor(1.9771)\n",
            "gtr   GAT   tensor(0.6458) tensor(0.5683) tensor(0.8936)\n",
            "sdrf   GAT   tensor(0.6890) tensor(0.9702) tensor(1.7719)\n",
            "none   GAT   tensor(0.6703) tensor(0.6447) tensor(0.9731)\n",
            "full   GAT   tensor(2.9124) tensor(2.8408) tensor(2.9378)\n",
            "empty   GAT   tensor(1.1819) tensor(1.4374) tensor(1.3995)\n",
            "hhs   GAT   tensor(0.6707) tensor(0.7727) tensor(1.0789)\n",
            "fosr   GAT   tensor(1.1451) tensor(0.9618) tensor(1.6097)\n",
            "gtr   GAT   tensor(0.6529) tensor(0.6673) tensor(1.1030)\n",
            "sdrf   GAT   tensor(0.9339) tensor(1.1082) tensor(1.2554)\n",
            "none   GAT   tensor(0.8456) tensor(0.7960) tensor(1.2429)\n",
            "full   GAT   tensor(1.1161) tensor(1.2986) tensor(1.6133)\n",
            "empty   GAT   tensor(1.1684) tensor(1.3770) tensor(1.3775)\n",
            "hhs   GAT   tensor(0.8111) tensor(0.7146) tensor(1.3785)\n",
            "fosr   GAT   tensor(0.8645) tensor(0.7553) tensor(1.0459)\n",
            "gtr   GAT   tensor(0.6997) tensor(0.8069) tensor(0.9291)\n",
            "sdrf   GAT   tensor(0.7190) tensor(0.8844) tensor(1.2931)\n",
            "none   GIN   tensor(0.6031) tensor(0.7644) tensor(1.2839)\n",
            "full   GIN   tensor(1.5424) tensor(2.2730) tensor(2.0517)\n",
            "empty   GIN   tensor(1.1636) tensor(1.4550) tensor(1.3814)\n",
            "hhs   GIN   tensor(0.4649) tensor(0.7214) tensor(0.7969)\n",
            "fosr   GIN   tensor(0.3259) tensor(0.6352) tensor(1.1566)\n",
            "gtr   GIN   tensor(0.3550) tensor(0.5942) tensor(0.9759)\n",
            "sdrf   GIN   tensor(0.4700) tensor(1.6518) tensor(1.2971)\n",
            "none   GIN   tensor(0.5953) tensor(0.8376) tensor(1.5117)\n",
            "full   GIN   tensor(2.4280) tensor(2.6774) tensor(2.5289)\n",
            "empty   GIN   tensor(1.1891) tensor(1.5135) tensor(1.3610)\n",
            "hhs   GIN   tensor(0.6374) tensor(1.1214) tensor(0.9682)\n",
            "fosr   GIN   tensor(0.2667) tensor(0.6053) tensor(0.7830)\n",
            "gtr   GIN   tensor(0.3218) tensor(0.6563) tensor(0.9359)\n",
            "sdrf   GIN   tensor(0.6702) tensor(1.5499) tensor(1.4990)\n",
            "none   GIN   tensor(0.5324) tensor(0.7999) tensor(1.1487)\n",
            "full   GIN   tensor(1.1525) tensor(1.7165) tensor(1.8484)\n",
            "empty   GIN   tensor(1.1872) tensor(1.4106) tensor(1.4425)\n",
            "hhs   GIN   tensor(0.3342) tensor(0.7810) tensor(0.7490)\n",
            "fosr   GIN   tensor(0.3381) tensor(0.6246) tensor(1.1905)\n",
            "gtr   GIN   tensor(0.2152) tensor(0.6088) tensor(0.8805)\n",
            "sdrf   GIN   tensor(0.2793) tensor(1.1160) tensor(1.1141)\n",
            "none   GIN   tensor(0.7276) tensor(1.1001) tensor(1.7020)\n",
            "full   GIN   tensor(3.6118) tensor(3.8042) tensor(3.8174)\n",
            "empty   GIN   tensor(1.1630) tensor(1.4755) tensor(1.3965)\n",
            "hhs   GIN   tensor(0.2955) tensor(1.0078) tensor(0.9098)\n",
            "fosr   GIN   tensor(0.2660) tensor(0.5151) tensor(0.6909)\n",
            "gtr   GIN   tensor(0.2921) tensor(0.8344) tensor(1.8471)\n",
            "sdrf   GIN   tensor(0.5355) tensor(1.6290) tensor(1.2581)\n",
            "none   GIN   tensor(0.4960) tensor(0.8367) tensor(1.3793)\n",
            "full   GIN   tensor(2.3712) tensor(2.9398) tensor(3.0993)\n",
            "empty   GIN   tensor(1.2145) tensor(1.5197) tensor(1.5025)\n",
            "hhs   GIN   tensor(0.4398) tensor(0.8226) tensor(0.8418)\n",
            "fosr   GIN   tensor(0.3456) tensor(0.9288) tensor(1.3872)\n",
            "gtr   GIN   tensor(0.3544) tensor(0.6325) tensor(1.2644)\n",
            "sdrf   GIN   tensor(0.3848) tensor(1.2739) tensor(1.2102)\n"
          ]
        }
      ],
      "source": [
        "T = 5\n",
        "\n",
        "path = \"./drive/MyDrive/CubeRep-Rewiring/Models/esol/\"\n",
        "\n",
        "layers = [2,3,4]\n",
        "archs = [\"GCN\", \"Graph\", \"GAT\", \"GIN\"]\n",
        "\n",
        "\n",
        "train_errors = torch.zeros(7, len(layers), len(archs), T)\n",
        "val_errors = torch.zeros(7, len(layers), len(archs), T)\n",
        "test_errors = torch.zeros(7, len(layers), len(archs), T)\n",
        "\n",
        "train_loaders = [none_train, full_train, empty_train, hhs_train, fosr_train, gtr_train, sdrf_train]\n",
        "val_loaders = [none_val, full_val, empty_val, hhs_val, fosr_val, gtr_val, sdrf_val]\n",
        "test_loaders = [none_test, full_test, empty_test, hhs_test, fosr_test, gtr_test, sdrf_test]\n",
        "\n",
        "methods = [\"none\", \"full\", \"empty\", \"hhs\", \"fosr\", \"gtr\", \"sdrf\"]\n",
        "\n",
        "for i,l in enumerate(layers):\n",
        "  for j,arch in enumerate(archs):\n",
        "    for t in range(T):\n",
        "      for k,method in enumerate(methods):\n",
        "        train_loader = DataLoader(train_loaders[k], batch_size=100, shuffle=False)\n",
        "        val_loader = DataLoader(val_loaders[k], batch_size=20, shuffle=False)\n",
        "        test_loader = DataLoader(test_loaders[k], batch_size=20, shuffle=False)\n",
        "\n",
        "        # model = GNN(128, 1, l, hidden_dim = 64, arch = arch).to(\"cuda\")\n",
        "        # model = train(model, train_loader, val_loader, test_loader, path+method+\"-\"+arch+\"-l-\"+str(l)+\"-t-\"+str(t)+\"-epoch-\", iterations = 100,\n",
        "                      # criterion = torch.nn.MSELoss())\n",
        "\n",
        "        model = torch.load(path+method+\"-\"+arch+\"-l-\"+str(l)+\"-t-\"+str(t)+\"-epoch-99.pt\")\n",
        "\n",
        "\n",
        "        train_errors[k,i,j,t] = test_mse(model, train_loader).detach().cpu()\n",
        "        val_errors[k,i,j,t] = test_mse(model, val_loader).detach().cpu()\n",
        "        test_errors[k,i,j,t] = test_mse(model, test_loader).detach().cpu()\n",
        "\n",
        "        print(method, \" \", arch, \" \", train_errors[k,i,j,t],val_errors[k,i,j,t],test_errors[k,i,j,t])\n"
      ]
    },
    {
      "cell_type": "code",
      "source": [
        "path = \"./drive/MyDrive/CubeRep-Rewiring/Models/esol/\"\n",
        "torch.save((train_errors, val_errors, test_errors), path+\"acc.pt\")"
      ],
      "metadata": {
        "id": "mW5RoQs_RKyu"
      },
      "execution_count": null,
      "outputs": []
    },
    {
      "cell_type": "code",
      "execution_count": null,
      "metadata": {
        "colab": {
          "base_uri": "https://localhost:8080/",
          "height": 606
        },
        "id": "F0HORn7T0V-u",
        "outputId": "3c9efd90-2806-44a8-f08a-ead32e440ac9"
      },
      "outputs": [
        {
          "name": "stderr",
          "output_type": "stream",
          "text": [
            "100%|██████████| 200/200 [04:39<00:00,  1.40s/it]\n"
          ]
        },
        {
          "name": "stdout",
          "output_type": "stream",
          "text": [
            "none   GCN   tensor(0.4628) tensor(0.4390) tensor(0.4415)\n"
          ]
        },
        {
          "name": "stderr",
          "output_type": "stream",
          "text": [
            "100%|██████████| 200/200 [04:21<00:00,  1.31s/it]\n"
          ]
        },
        {
          "name": "stdout",
          "output_type": "stream",
          "text": [
            "empty   GCN   tensor(0.3435) tensor(0.3531) tensor(0.3544)\n"
          ]
        },
        {
          "name": "stderr",
          "output_type": "stream",
          "text": [
            "100%|██████████| 200/200 [04:38<00:00,  1.39s/it]\n"
          ]
        },
        {
          "name": "stdout",
          "output_type": "stream",
          "text": [
            "hhs   GCN   tensor(0.4207) tensor(0.4020) tensor(0.4058)\n"
          ]
        },
        {
          "name": "stderr",
          "output_type": "stream",
          "text": [
            "100%|██████████| 200/200 [04:37<00:00,  1.39s/it]\n"
          ]
        },
        {
          "name": "stdout",
          "output_type": "stream",
          "text": [
            "fosr   GCN   tensor(0.4224) tensor(0.4080) tensor(0.4047)\n"
          ]
        },
        {
          "name": "stderr",
          "output_type": "stream",
          "text": [
            "100%|██████████| 200/200 [04:37<00:00,  1.39s/it]\n"
          ]
        },
        {
          "name": "stdout",
          "output_type": "stream",
          "text": [
            "gtr   GCN   tensor(0.4010) tensor(0.3998) tensor(0.3897)\n"
          ]
        },
        {
          "name": "stderr",
          "output_type": "stream",
          "text": [
            "100%|██████████| 200/200 [04:36<00:00,  1.38s/it]\n"
          ]
        },
        {
          "name": "stdout",
          "output_type": "stream",
          "text": [
            "sdrf   GCN   tensor(0.4556) tensor(0.4342) tensor(0.4359)\n"
          ]
        },
        {
          "name": "stderr",
          "output_type": "stream",
          "text": [
            " 14%|█▍        | 29/200 [00:40<03:58,  1.39s/it]\n"
          ]
        },
        {
          "ename": "KeyboardInterrupt",
          "evalue": "",
          "output_type": "error",
          "traceback": [
            "\u001b[0;31m---------------------------------------------------------------------------\u001b[0m",
            "\u001b[0;31mKeyboardInterrupt\u001b[0m                         Traceback (most recent call last)",
            "\u001b[0;32m<ipython-input-73-3d0875651592>\u001b[0m in \u001b[0;36m<cell line: 19>\u001b[0;34m()\u001b[0m\n\u001b[1;32m     26\u001b[0m \u001b[0;34m\u001b[0m\u001b[0m\n\u001b[1;32m     27\u001b[0m         \u001b[0mmodel\u001b[0m \u001b[0;34m=\u001b[0m \u001b[0mGNN\u001b[0m\u001b[0;34m(\u001b[0m\u001b[0;36m9\u001b[0m\u001b[0;34m,\u001b[0m \u001b[0;36m10\u001b[0m\u001b[0;34m,\u001b[0m \u001b[0ml\u001b[0m\u001b[0;34m,\u001b[0m \u001b[0mhidden_dim\u001b[0m \u001b[0;34m=\u001b[0m \u001b[0;36m64\u001b[0m\u001b[0;34m,\u001b[0m \u001b[0march\u001b[0m \u001b[0;34m=\u001b[0m \u001b[0march\u001b[0m\u001b[0;34m)\u001b[0m\u001b[0;34m.\u001b[0m\u001b[0mto\u001b[0m\u001b[0;34m(\u001b[0m\u001b[0;34m\"cuda\"\u001b[0m\u001b[0;34m)\u001b[0m\u001b[0;34m\u001b[0m\u001b[0;34m\u001b[0m\u001b[0m\n\u001b[0;32m---> 28\u001b[0;31m         model = train(model, train_loader, val_loader, test_loader, path+method+\"-mse-\"+arch+\"-\"+str(l)+\"-epoch-\", iterations = 200,\n\u001b[0m\u001b[1;32m     29\u001b[0m                       criterion = torch.nn.MSELoss())\n\u001b[1;32m     30\u001b[0m         \u001b[0;31m# model = torch.load(path+method+\"-\"+arch+\"-\"+str(l)+\"-epoch-\"+str(99)+\".pt\")\u001b[0m\u001b[0;34m\u001b[0m\u001b[0;34m\u001b[0m\u001b[0m\n",
            "\u001b[0;32m<ipython-input-71-d9437881da75>\u001b[0m in \u001b[0;36mtrain\u001b[0;34m(model, train_loader, val_loader, test_loader, filename, iterations, criterion)\u001b[0m\n\u001b[1;32m     22\u001b[0m       \u001b[0moptimizer\u001b[0m\u001b[0;34m.\u001b[0m\u001b[0mzero_grad\u001b[0m\u001b[0;34m(\u001b[0m\u001b[0;34m)\u001b[0m  \u001b[0;31m# Clear gradients.\u001b[0m\u001b[0;34m\u001b[0m\u001b[0;34m\u001b[0m\u001b[0m\n\u001b[1;32m     23\u001b[0m       \u001b[0mdata\u001b[0m \u001b[0;34m=\u001b[0m \u001b[0mdata\u001b[0m\u001b[0;34m.\u001b[0m\u001b[0mto\u001b[0m\u001b[0;34m(\u001b[0m\u001b[0;34m'cuda'\u001b[0m\u001b[0;34m)\u001b[0m\u001b[0;34m\u001b[0m\u001b[0;34m\u001b[0m\u001b[0m\n\u001b[0;32m---> 24\u001b[0;31m       \u001b[0mout\u001b[0m \u001b[0;34m=\u001b[0m \u001b[0mmodel\u001b[0m\u001b[0;34m(\u001b[0m\u001b[0mdata\u001b[0m\u001b[0;34m.\u001b[0m\u001b[0mx\u001b[0m\u001b[0;34m.\u001b[0m\u001b[0mfloat\u001b[0m\u001b[0;34m(\u001b[0m\u001b[0;34m)\u001b[0m\u001b[0;34m,\u001b[0m \u001b[0mdata\u001b[0m\u001b[0;34m.\u001b[0m\u001b[0mrewired_edge_index\u001b[0m\u001b[0;34m,\u001b[0m \u001b[0mdata\u001b[0m\u001b[0;34m.\u001b[0m\u001b[0mbatch\u001b[0m\u001b[0;34m)\u001b[0m  \u001b[0;31m# Perform a single forward pass.\u001b[0m\u001b[0;34m\u001b[0m\u001b[0;34m\u001b[0m\u001b[0m\n\u001b[0m\u001b[1;32m     25\u001b[0m       \u001b[0mloss\u001b[0m \u001b[0;34m=\u001b[0m \u001b[0mcriterion\u001b[0m\u001b[0;34m(\u001b[0m\u001b[0mout\u001b[0m\u001b[0;34m,\u001b[0m \u001b[0mdata\u001b[0m\u001b[0;34m.\u001b[0m\u001b[0my\u001b[0m\u001b[0;34m.\u001b[0m\u001b[0mfloat\u001b[0m\u001b[0;34m(\u001b[0m\u001b[0;34m)\u001b[0m\u001b[0;34m)\u001b[0m  \u001b[0;31m# Compute the loss.\u001b[0m\u001b[0;34m\u001b[0m\u001b[0;34m\u001b[0m\u001b[0m\n\u001b[1;32m     26\u001b[0m       \u001b[0mloss\u001b[0m\u001b[0;34m.\u001b[0m\u001b[0mbackward\u001b[0m\u001b[0;34m(\u001b[0m\u001b[0;34m)\u001b[0m  \u001b[0;31m# Derive gradients.\u001b[0m\u001b[0;34m\u001b[0m\u001b[0;34m\u001b[0m\u001b[0m\n",
            "\u001b[0;32m/usr/local/lib/python3.10/dist-packages/torch/nn/modules/module.py\u001b[0m in \u001b[0;36m_wrapped_call_impl\u001b[0;34m(self, *args, **kwargs)\u001b[0m\n\u001b[1;32m   1516\u001b[0m             \u001b[0;32mreturn\u001b[0m \u001b[0mself\u001b[0m\u001b[0;34m.\u001b[0m\u001b[0m_compiled_call_impl\u001b[0m\u001b[0;34m(\u001b[0m\u001b[0;34m*\u001b[0m\u001b[0margs\u001b[0m\u001b[0;34m,\u001b[0m \u001b[0;34m**\u001b[0m\u001b[0mkwargs\u001b[0m\u001b[0;34m)\u001b[0m  \u001b[0;31m# type: ignore[misc]\u001b[0m\u001b[0;34m\u001b[0m\u001b[0;34m\u001b[0m\u001b[0m\n\u001b[1;32m   1517\u001b[0m         \u001b[0;32melse\u001b[0m\u001b[0;34m:\u001b[0m\u001b[0;34m\u001b[0m\u001b[0;34m\u001b[0m\u001b[0m\n\u001b[0;32m-> 1518\u001b[0;31m             \u001b[0;32mreturn\u001b[0m \u001b[0mself\u001b[0m\u001b[0;34m.\u001b[0m\u001b[0m_call_impl\u001b[0m\u001b[0;34m(\u001b[0m\u001b[0;34m*\u001b[0m\u001b[0margs\u001b[0m\u001b[0;34m,\u001b[0m \u001b[0;34m**\u001b[0m\u001b[0mkwargs\u001b[0m\u001b[0;34m)\u001b[0m\u001b[0;34m\u001b[0m\u001b[0;34m\u001b[0m\u001b[0m\n\u001b[0m\u001b[1;32m   1519\u001b[0m \u001b[0;34m\u001b[0m\u001b[0m\n\u001b[1;32m   1520\u001b[0m     \u001b[0;32mdef\u001b[0m \u001b[0m_call_impl\u001b[0m\u001b[0;34m(\u001b[0m\u001b[0mself\u001b[0m\u001b[0;34m,\u001b[0m \u001b[0;34m*\u001b[0m\u001b[0margs\u001b[0m\u001b[0;34m,\u001b[0m \u001b[0;34m**\u001b[0m\u001b[0mkwargs\u001b[0m\u001b[0;34m)\u001b[0m\u001b[0;34m:\u001b[0m\u001b[0;34m\u001b[0m\u001b[0;34m\u001b[0m\u001b[0m\n",
            "\u001b[0;32m/usr/local/lib/python3.10/dist-packages/torch/nn/modules/module.py\u001b[0m in \u001b[0;36m_call_impl\u001b[0;34m(self, *args, **kwargs)\u001b[0m\n\u001b[1;32m   1525\u001b[0m                 \u001b[0;32mor\u001b[0m \u001b[0m_global_backward_pre_hooks\u001b[0m \u001b[0;32mor\u001b[0m \u001b[0m_global_backward_hooks\u001b[0m\u001b[0;34m\u001b[0m\u001b[0;34m\u001b[0m\u001b[0m\n\u001b[1;32m   1526\u001b[0m                 or _global_forward_hooks or _global_forward_pre_hooks):\n\u001b[0;32m-> 1527\u001b[0;31m             \u001b[0;32mreturn\u001b[0m \u001b[0mforward_call\u001b[0m\u001b[0;34m(\u001b[0m\u001b[0;34m*\u001b[0m\u001b[0margs\u001b[0m\u001b[0;34m,\u001b[0m \u001b[0;34m**\u001b[0m\u001b[0mkwargs\u001b[0m\u001b[0;34m)\u001b[0m\u001b[0;34m\u001b[0m\u001b[0;34m\u001b[0m\u001b[0m\n\u001b[0m\u001b[1;32m   1528\u001b[0m \u001b[0;34m\u001b[0m\u001b[0m\n\u001b[1;32m   1529\u001b[0m         \u001b[0;32mtry\u001b[0m\u001b[0;34m:\u001b[0m\u001b[0;34m\u001b[0m\u001b[0;34m\u001b[0m\u001b[0m\n",
            "\u001b[0;32m<ipython-input-11-ac4c1ac60883>\u001b[0m in \u001b[0;36mforward\u001b[0;34m(self, x, edge_index, batch)\u001b[0m\n\u001b[1;32m     31\u001b[0m   \u001b[0;32mdef\u001b[0m \u001b[0mforward\u001b[0m\u001b[0;34m(\u001b[0m\u001b[0mself\u001b[0m\u001b[0;34m,\u001b[0m \u001b[0mx\u001b[0m\u001b[0;34m,\u001b[0m \u001b[0medge_index\u001b[0m\u001b[0;34m,\u001b[0m \u001b[0mbatch\u001b[0m\u001b[0;34m)\u001b[0m\u001b[0;34m:\u001b[0m\u001b[0;34m\u001b[0m\u001b[0;34m\u001b[0m\u001b[0m\n\u001b[1;32m     32\u001b[0m     \u001b[0;32mfor\u001b[0m \u001b[0mi\u001b[0m \u001b[0;32min\u001b[0m \u001b[0mrange\u001b[0m\u001b[0;34m(\u001b[0m\u001b[0mself\u001b[0m\u001b[0;34m.\u001b[0m\u001b[0mnum_layers\u001b[0m\u001b[0;34m)\u001b[0m\u001b[0;34m:\u001b[0m\u001b[0;34m\u001b[0m\u001b[0;34m\u001b[0m\u001b[0m\n\u001b[0;32m---> 33\u001b[0;31m       \u001b[0mx\u001b[0m \u001b[0;34m=\u001b[0m \u001b[0mself\u001b[0m\u001b[0;34m.\u001b[0m\u001b[0mlayers\u001b[0m\u001b[0;34m[\u001b[0m\u001b[0mi\u001b[0m\u001b[0;34m]\u001b[0m\u001b[0;34m(\u001b[0m\u001b[0mx\u001b[0m\u001b[0;34m,\u001b[0m \u001b[0medge_index\u001b[0m\u001b[0;34m)\u001b[0m\u001b[0;34m.\u001b[0m\u001b[0mrelu\u001b[0m\u001b[0;34m(\u001b[0m\u001b[0;34m)\u001b[0m\u001b[0;34m\u001b[0m\u001b[0;34m\u001b[0m\u001b[0m\n\u001b[0m\u001b[1;32m     34\u001b[0m \u001b[0;34m\u001b[0m\u001b[0m\n\u001b[1;32m     35\u001b[0m     \u001b[0mx\u001b[0m \u001b[0;34m=\u001b[0m \u001b[0mtorch_geometric\u001b[0m\u001b[0;34m.\u001b[0m\u001b[0mnn\u001b[0m\u001b[0;34m.\u001b[0m\u001b[0mglobal_mean_pool\u001b[0m\u001b[0;34m(\u001b[0m\u001b[0mx\u001b[0m\u001b[0;34m,\u001b[0m \u001b[0mbatch\u001b[0m\u001b[0;34m)\u001b[0m\u001b[0;34m\u001b[0m\u001b[0;34m\u001b[0m\u001b[0m\n",
            "\u001b[0;32m/usr/local/lib/python3.10/dist-packages/torch/nn/modules/module.py\u001b[0m in \u001b[0;36m_wrapped_call_impl\u001b[0;34m(self, *args, **kwargs)\u001b[0m\n\u001b[1;32m   1516\u001b[0m             \u001b[0;32mreturn\u001b[0m \u001b[0mself\u001b[0m\u001b[0;34m.\u001b[0m\u001b[0m_compiled_call_impl\u001b[0m\u001b[0;34m(\u001b[0m\u001b[0;34m*\u001b[0m\u001b[0margs\u001b[0m\u001b[0;34m,\u001b[0m \u001b[0;34m**\u001b[0m\u001b[0mkwargs\u001b[0m\u001b[0;34m)\u001b[0m  \u001b[0;31m# type: ignore[misc]\u001b[0m\u001b[0;34m\u001b[0m\u001b[0;34m\u001b[0m\u001b[0m\n\u001b[1;32m   1517\u001b[0m         \u001b[0;32melse\u001b[0m\u001b[0;34m:\u001b[0m\u001b[0;34m\u001b[0m\u001b[0;34m\u001b[0m\u001b[0m\n\u001b[0;32m-> 1518\u001b[0;31m             \u001b[0;32mreturn\u001b[0m \u001b[0mself\u001b[0m\u001b[0;34m.\u001b[0m\u001b[0m_call_impl\u001b[0m\u001b[0;34m(\u001b[0m\u001b[0;34m*\u001b[0m\u001b[0margs\u001b[0m\u001b[0;34m,\u001b[0m \u001b[0;34m**\u001b[0m\u001b[0mkwargs\u001b[0m\u001b[0;34m)\u001b[0m\u001b[0;34m\u001b[0m\u001b[0;34m\u001b[0m\u001b[0m\n\u001b[0m\u001b[1;32m   1519\u001b[0m \u001b[0;34m\u001b[0m\u001b[0m\n\u001b[1;32m   1520\u001b[0m     \u001b[0;32mdef\u001b[0m \u001b[0m_call_impl\u001b[0m\u001b[0;34m(\u001b[0m\u001b[0mself\u001b[0m\u001b[0;34m,\u001b[0m \u001b[0;34m*\u001b[0m\u001b[0margs\u001b[0m\u001b[0;34m,\u001b[0m \u001b[0;34m**\u001b[0m\u001b[0mkwargs\u001b[0m\u001b[0;34m)\u001b[0m\u001b[0;34m:\u001b[0m\u001b[0;34m\u001b[0m\u001b[0;34m\u001b[0m\u001b[0m\n",
            "\u001b[0;32m/usr/local/lib/python3.10/dist-packages/torch/nn/modules/module.py\u001b[0m in \u001b[0;36m_call_impl\u001b[0;34m(self, *args, **kwargs)\u001b[0m\n\u001b[1;32m   1525\u001b[0m                 \u001b[0;32mor\u001b[0m \u001b[0m_global_backward_pre_hooks\u001b[0m \u001b[0;32mor\u001b[0m \u001b[0m_global_backward_hooks\u001b[0m\u001b[0;34m\u001b[0m\u001b[0;34m\u001b[0m\u001b[0m\n\u001b[1;32m   1526\u001b[0m                 or _global_forward_hooks or _global_forward_pre_hooks):\n\u001b[0;32m-> 1527\u001b[0;31m             \u001b[0;32mreturn\u001b[0m \u001b[0mforward_call\u001b[0m\u001b[0;34m(\u001b[0m\u001b[0;34m*\u001b[0m\u001b[0margs\u001b[0m\u001b[0;34m,\u001b[0m \u001b[0;34m**\u001b[0m\u001b[0mkwargs\u001b[0m\u001b[0;34m)\u001b[0m\u001b[0;34m\u001b[0m\u001b[0;34m\u001b[0m\u001b[0m\n\u001b[0m\u001b[1;32m   1528\u001b[0m \u001b[0;34m\u001b[0m\u001b[0m\n\u001b[1;32m   1529\u001b[0m         \u001b[0;32mtry\u001b[0m\u001b[0;34m:\u001b[0m\u001b[0;34m\u001b[0m\u001b[0;34m\u001b[0m\u001b[0m\n",
            "\u001b[0;32m/usr/local/lib/python3.10/dist-packages/torch_geometric/nn/conv/gcn_conv.py\u001b[0m in \u001b[0;36mforward\u001b[0;34m(self, x, edge_index, edge_weight)\u001b[0m\n\u001b[1;32m    242\u001b[0m \u001b[0;34m\u001b[0m\u001b[0m\n\u001b[1;32m    243\u001b[0m         \u001b[0;31m# propagate_type: (x: Tensor, edge_weight: OptTensor)\u001b[0m\u001b[0;34m\u001b[0m\u001b[0;34m\u001b[0m\u001b[0m\n\u001b[0;32m--> 244\u001b[0;31m         out = self.propagate(edge_index, x=x, edge_weight=edge_weight,\n\u001b[0m\u001b[1;32m    245\u001b[0m                              size=None)\n\u001b[1;32m    246\u001b[0m \u001b[0;34m\u001b[0m\u001b[0m\n",
            "\u001b[0;32m/usr/local/lib/python3.10/dist-packages/torch_geometric/nn/conv/message_passing.py\u001b[0m in \u001b[0;36mpropagate\u001b[0;34m(self, edge_index, size, **kwargs)\u001b[0m\n\u001b[1;32m    453\u001b[0m                         \u001b[0mkwargs\u001b[0m\u001b[0;34m[\u001b[0m\u001b[0marg\u001b[0m\u001b[0;34m]\u001b[0m \u001b[0;34m=\u001b[0m \u001b[0mdecomp_kwargs\u001b[0m\u001b[0;34m[\u001b[0m\u001b[0marg\u001b[0m\u001b[0;34m]\u001b[0m\u001b[0;34m[\u001b[0m\u001b[0mi\u001b[0m\u001b[0;34m]\u001b[0m\u001b[0;34m\u001b[0m\u001b[0;34m\u001b[0m\u001b[0m\n\u001b[1;32m    454\u001b[0m \u001b[0;34m\u001b[0m\u001b[0m\n\u001b[0;32m--> 455\u001b[0;31m                 coll_dict = self._collect(self._user_args, edge_index, size,\n\u001b[0m\u001b[1;32m    456\u001b[0m                                           kwargs)\n\u001b[1;32m    457\u001b[0m \u001b[0;34m\u001b[0m\u001b[0m\n",
            "\u001b[0;32m/usr/local/lib/python3.10/dist-packages/torch_geometric/nn/conv/message_passing.py\u001b[0m in \u001b[0;36m_collect\u001b[0;34m(self, args, edge_index, size, kwargs)\u001b[0m\n\u001b[1;32m    327\u001b[0m                 \u001b[0;32mif\u001b[0m \u001b[0misinstance\u001b[0m\u001b[0;34m(\u001b[0m\u001b[0mdata\u001b[0m\u001b[0;34m,\u001b[0m \u001b[0mTensor\u001b[0m\u001b[0;34m)\u001b[0m\u001b[0;34m:\u001b[0m\u001b[0;34m\u001b[0m\u001b[0;34m\u001b[0m\u001b[0m\n\u001b[1;32m    328\u001b[0m                     \u001b[0mself\u001b[0m\u001b[0;34m.\u001b[0m\u001b[0m_set_size\u001b[0m\u001b[0;34m(\u001b[0m\u001b[0msize\u001b[0m\u001b[0;34m,\u001b[0m \u001b[0mdim\u001b[0m\u001b[0;34m,\u001b[0m \u001b[0mdata\u001b[0m\u001b[0;34m)\u001b[0m\u001b[0;34m\u001b[0m\u001b[0;34m\u001b[0m\u001b[0m\n\u001b[0;32m--> 329\u001b[0;31m                     \u001b[0mdata\u001b[0m \u001b[0;34m=\u001b[0m \u001b[0mself\u001b[0m\u001b[0;34m.\u001b[0m\u001b[0m_lift\u001b[0m\u001b[0;34m(\u001b[0m\u001b[0mdata\u001b[0m\u001b[0;34m,\u001b[0m \u001b[0medge_index\u001b[0m\u001b[0;34m,\u001b[0m \u001b[0mdim\u001b[0m\u001b[0;34m)\u001b[0m\u001b[0;34m\u001b[0m\u001b[0;34m\u001b[0m\u001b[0m\n\u001b[0m\u001b[1;32m    330\u001b[0m \u001b[0;34m\u001b[0m\u001b[0m\n\u001b[1;32m    331\u001b[0m                 \u001b[0mout\u001b[0m\u001b[0;34m[\u001b[0m\u001b[0marg\u001b[0m\u001b[0;34m]\u001b[0m \u001b[0;34m=\u001b[0m \u001b[0mdata\u001b[0m\u001b[0;34m\u001b[0m\u001b[0;34m\u001b[0m\u001b[0m\n",
            "\u001b[0;32m/usr/local/lib/python3.10/dist-packages/torch_geometric/nn/conv/message_passing.py\u001b[0m in \u001b[0;36m_lift\u001b[0;34m(self, src, edge_index, dim)\u001b[0m\n\u001b[1;32m    264\u001b[0m             \u001b[0;32mtry\u001b[0m\u001b[0;34m:\u001b[0m\u001b[0;34m\u001b[0m\u001b[0;34m\u001b[0m\u001b[0m\n\u001b[1;32m    265\u001b[0m                 \u001b[0mindex\u001b[0m \u001b[0;34m=\u001b[0m \u001b[0medge_index\u001b[0m\u001b[0;34m[\u001b[0m\u001b[0mdim\u001b[0m\u001b[0;34m]\u001b[0m\u001b[0;34m\u001b[0m\u001b[0;34m\u001b[0m\u001b[0m\n\u001b[0;32m--> 266\u001b[0;31m                 \u001b[0;32mreturn\u001b[0m \u001b[0msrc\u001b[0m\u001b[0;34m.\u001b[0m\u001b[0mindex_select\u001b[0m\u001b[0;34m(\u001b[0m\u001b[0mself\u001b[0m\u001b[0;34m.\u001b[0m\u001b[0mnode_dim\u001b[0m\u001b[0;34m,\u001b[0m \u001b[0mindex\u001b[0m\u001b[0;34m)\u001b[0m\u001b[0;34m\u001b[0m\u001b[0;34m\u001b[0m\u001b[0m\n\u001b[0m\u001b[1;32m    267\u001b[0m             \u001b[0;32mexcept\u001b[0m \u001b[0;34m(\u001b[0m\u001b[0mIndexError\u001b[0m\u001b[0;34m,\u001b[0m \u001b[0mRuntimeError\u001b[0m\u001b[0;34m)\u001b[0m \u001b[0;32mas\u001b[0m \u001b[0me\u001b[0m\u001b[0;34m:\u001b[0m\u001b[0;34m\u001b[0m\u001b[0;34m\u001b[0m\u001b[0m\n\u001b[1;32m    268\u001b[0m                 \u001b[0;32mif\u001b[0m \u001b[0mindex\u001b[0m\u001b[0;34m.\u001b[0m\u001b[0mmin\u001b[0m\u001b[0;34m(\u001b[0m\u001b[0;34m)\u001b[0m \u001b[0;34m<\u001b[0m \u001b[0;36m0\u001b[0m \u001b[0;32mor\u001b[0m \u001b[0mindex\u001b[0m\u001b[0;34m.\u001b[0m\u001b[0mmax\u001b[0m\u001b[0;34m(\u001b[0m\u001b[0;34m)\u001b[0m \u001b[0;34m>=\u001b[0m \u001b[0msrc\u001b[0m\u001b[0;34m.\u001b[0m\u001b[0msize\u001b[0m\u001b[0;34m(\u001b[0m\u001b[0mself\u001b[0m\u001b[0;34m.\u001b[0m\u001b[0mnode_dim\u001b[0m\u001b[0;34m)\u001b[0m\u001b[0;34m:\u001b[0m\u001b[0;34m\u001b[0m\u001b[0;34m\u001b[0m\u001b[0m\n",
            "\u001b[0;31mKeyboardInterrupt\u001b[0m: "
          ]
        }
      ],
      "source": [
        "T = 5\n",
        "\n",
        "path = \"./drive/MyDrive/CubeRep-Rewiring/Models/PeptidesFunc/\"\n",
        "\n",
        "layers = [2,3,4]\n",
        "archs = [\"GCN\", \"Graph\", \"GAT\", \"GIN\"]\n",
        "\n",
        "\n",
        "train_errors = torch.zeros(7, len(layers), len(archs), T)\n",
        "val_errors = torch.zeros(7, len(layers), len(archs), T)\n",
        "test_errors = torch.zeros(7, len(layers), len(archs), T)\n",
        "\n",
        "train_loaders = [none_train, empty_train, hhs_train, fosr_train, gtr_train, sdrf_train]\n",
        "val_loaders = [none_val, empty_val, hhs_val, fosr_val, gtr_val, sdrf_val]\n",
        "test_loaders = [none_test, empty_test, hhs_test, fosr_test, gtr_test, sdrf_test]\n",
        "\n",
        "methods = [\"none\", \"empty\", \"hhs\", \"fosr\", \"gtr\", \"sdrf\"]\n",
        "\n",
        "for i,l in enumerate(layers):\n",
        "  for j,arch in enumerate(archs):\n",
        "    for t in range(T):\n",
        "      for k,method in enumerate(methods):\n",
        "        train_loader = DataLoader(train_loaders[k], batch_size=50, shuffle=False)\n",
        "        val_loader = DataLoader(val_loaders[k], batch_size=20, shuffle=False)\n",
        "        test_loader = DataLoader(test_loaders[k], batch_size=20, shuffle=False)\n",
        "\n",
        "        model = GNN(9, 10, l, hidden_dim = 64, arch = arch).to(\"cuda\")\n",
        "        model = train(model, train_loader, val_loader, test_loader, path+method+\"-mse-\"+arch+\"-\"+str(l)+\"-epoch-\", iterations = 200,\n",
        "                      criterion = torch.nn.MSELoss())\n",
        "        # model = torch.load(path+method+\"-\"+arch+\"-\"+str(l)+\"-epoch-\"+str(99)+\".pt\")\n",
        "\n",
        "        train_errors[k,i,j,t] = test_precision(model, train_loader)\n",
        "        val_errors[k,i,j,t] = test_precision(model, val_loader)\n",
        "        test_errors[k,i,j,t] = test_precision(model, test_loader)\n",
        "\n",
        "        print(method, \" \", arch, \" \", train_errors[k,i,j,t],val_errors[k,i,j,t],test_errors[k,i,j,t])\n"
      ]
    },
    {
      "cell_type": "code",
      "execution_count": null,
      "metadata": {
        "colab": {
          "base_uri": "https://localhost:8080/",
          "height": 191
        },
        "id": "k2kkuwa-Xyny",
        "outputId": "00d5b53c-b549-4952-f627-96a5fec2bf86"
      },
      "outputs": [
        {
          "ename": "NameError",
          "evalue": "name 'torch' is not defined",
          "output_type": "error",
          "traceback": [
            "\u001b[0;31m---------------------------------------------------------------------------\u001b[0m",
            "\u001b[0;31mNameError\u001b[0m                                 Traceback (most recent call last)",
            "\u001b[0;32m<ipython-input-1-c4aff9bc0456>\u001b[0m in \u001b[0;36m<cell line: 2>\u001b[0;34m()\u001b[0m\n\u001b[1;32m      1\u001b[0m \u001b[0mpath\u001b[0m \u001b[0;34m=\u001b[0m \u001b[0;34m\"./drive/MyDrive/CubeRep-Rewiring/Models/esol/\"\u001b[0m\u001b[0;34m\u001b[0m\u001b[0;34m\u001b[0m\u001b[0m\n\u001b[0;32m----> 2\u001b[0;31m \u001b[0mtorch\u001b[0m\u001b[0;34m.\u001b[0m\u001b[0msave\u001b[0m\u001b[0;34m(\u001b[0m\u001b[0;34m(\u001b[0m\u001b[0mtrain_errors\u001b[0m\u001b[0;34m,\u001b[0m \u001b[0mval_errors\u001b[0m\u001b[0;34m,\u001b[0m \u001b[0mtest_errors\u001b[0m\u001b[0;34m)\u001b[0m\u001b[0;34m,\u001b[0m \u001b[0mpath\u001b[0m\u001b[0;34m+\u001b[0m\u001b[0;34m\"acc.pt\"\u001b[0m\u001b[0;34m)\u001b[0m\u001b[0;34m\u001b[0m\u001b[0;34m\u001b[0m\u001b[0m\n\u001b[0m",
            "\u001b[0;31mNameError\u001b[0m: name 'torch' is not defined"
          ]
        }
      ],
      "source": [
        "path = \"./drive/MyDrive/CubeRep-Rewiring/Models/esol/\"\n",
        "torch.save((train_errors, val_errors, test_errors), path+\"acc.pt\")"
      ]
    },
    {
      "cell_type": "code",
      "execution_count": null,
      "metadata": {
        "id": "RTycAve7FPEr"
      },
      "outputs": [],
      "source": [
        "def print_diff(test, i,j):\n",
        "  return test[i,:,:,:].mean(dim=-1) - test[j,:,:,:].mean(dim=-1)"
      ]
    },
    {
      "cell_type": "code",
      "source": [
        "x = torch.randn(5)\n",
        "x"
      ],
      "metadata": {
        "colab": {
          "base_uri": "https://localhost:8080/"
        },
        "id": "f2yHfpohoF9P",
        "outputId": "d7f9aa34-eaa6-4c30-ce23-5a5faf305726"
      },
      "execution_count": null,
      "outputs": [
        {
          "output_type": "execute_result",
          "data": {
            "text/plain": [
              "tensor([ 1.7464, -0.0064, -1.0812,  0.1173, -1.5771])"
            ]
          },
          "metadata": {},
          "execution_count": 37
        }
      ]
    },
    {
      "cell_type": "code",
      "source": [
        "sorted, indices = torch.sort(x)\n",
        "sorted"
      ],
      "metadata": {
        "colab": {
          "base_uri": "https://localhost:8080/"
        },
        "id": "664Rw7NxoL41",
        "outputId": "bc4ed5da-1908-4a5f-e601-04f879964a5b"
      },
      "execution_count": null,
      "outputs": [
        {
          "output_type": "execute_result",
          "data": {
            "text/plain": [
              "tensor([-1.5771, -1.0812, -0.0064,  0.1173,  1.7464])"
            ]
          },
          "metadata": {},
          "execution_count": 38
        }
      ]
    },
    {
      "cell_type": "code",
      "source": [
        "indices"
      ],
      "metadata": {
        "colab": {
          "base_uri": "https://localhost:8080/"
        },
        "id": "oIuJwtghoK8c",
        "outputId": "33990799-4743-4025-e944-0561926c5020"
      },
      "execution_count": null,
      "outputs": [
        {
          "output_type": "execute_result",
          "data": {
            "text/plain": [
              "tensor([4, 2, 1, 3, 0])"
            ]
          },
          "metadata": {},
          "execution_count": 39
        }
      ]
    },
    {
      "cell_type": "code",
      "source": [
        "test_errors.shape"
      ],
      "metadata": {
        "colab": {
          "base_uri": "https://localhost:8080/"
        },
        "id": "PpMCxo2Xncpe",
        "outputId": "6ef5b602-36e4-4b2d-8977-1d4d04ff8316"
      },
      "execution_count": null,
      "outputs": [
        {
          "output_type": "execute_result",
          "data": {
            "text/plain": [
              "torch.Size([7, 3, 4, 5])"
            ]
          },
          "metadata": {},
          "execution_count": 24
        }
      ]
    },
    {
      "cell_type": "code",
      "source": [
        "def mean_rank(test, desc = True):\n",
        "  num_methods = test.shape[0]\n",
        "  ranks = torch.zeros_like(test)\n",
        "  _, idx = torch.sort(test, descending=desc)\n",
        "  for k in range(num_methods):\n",
        "    method_idx = idx[k]\n",
        "    ranks[method_idx] = k\n",
        "  return ranks"
      ],
      "metadata": {
        "id": "bUI6W-Nymxvl"
      },
      "execution_count": null,
      "outputs": []
    },
    {
      "cell_type": "code",
      "source": [
        "def best_val_max(val,test):\n",
        "  K,N,M,T = test.shape\n",
        "  best_test = torch.zeros(K)\n",
        "  for k in range(K):\n",
        "    max = val[k,:,:,:].min()\n",
        "    idxes = []\n",
        "    for j in range(M):\n",
        "      for t in range(T):\n",
        "        for i in range(N):\n",
        "          if (val[k,i,j,t] - max).abs() < 1e-5:\n",
        "            idxes.append((i,j,t))\n",
        "    for i,j,t in idxes:\n",
        "      best_test[k] += test_errors[k,i,j,t]/len(idxes)\n",
        "  return best_test\n",
        "\n",
        "def best_val_min(val,test):\n",
        "  K,N,M,T = test.shape\n",
        "  best_test = torch.zeros(K)\n",
        "  for k in range(K):\n",
        "    min = val[k,:,:,:].min()\n",
        "    idxes = []\n",
        "    for j in range(M):\n",
        "      for t in range(T):\n",
        "        for i in range(N):\n",
        "          if (val[k,i,j,t] - min).abs() < 1e-5:\n",
        "            idxes.append((i,j,t))\n",
        "    for i,j,t in idxes:\n",
        "      best_test[k] += test_errors[k,i,j,t]/len(idxes)\n",
        "  return best_test\n",
        "\n",
        "def best_val(val,test,max):\n",
        "  if max:\n",
        "    return best_val_max(val,test)\n",
        "  else:\n",
        "    return best_val_min(val,test)"
      ],
      "metadata": {
        "id": "cSAzDlRrtyj3"
      },
      "execution_count": null,
      "outputs": []
    },
    {
      "cell_type": "code",
      "source": [
        "path = \"./drive/MyDrive/CubeRep-Rewiring/Models/PeptidesStruct/\"\n",
        "train_errors, val_errors, test_errors = torch.load(path+\"acc.pt\")"
      ],
      "metadata": {
        "id": "lE6QZWeBno8-"
      },
      "execution_count": null,
      "outputs": []
    },
    {
      "cell_type": "code",
      "source": [
        "datasets = [\"PeptidesStruct\", \"Lipo\", \"BACE\", \"esol\", \"Zinc\", \"IMDB/GCN\", \"Reddit\", \"Collab\", \"Mutag\", \"Proteins\", \"Enzymes\"]\n",
        "descending = [False, False, False, False, False, True, True, True, True, True, True]\n",
        "\n",
        "mean_ranks = torch.zeros(len(datasets),7)\n",
        "\n",
        "for i in range(len(datasets)):\n",
        "  path = \"./drive/MyDrive/CubeRep-Rewiring/Models/\"+datasets[i]\n",
        "  train_errors, val_errors, test_errors = torch.load(path+\"/acc.pt\")\n",
        "  if test_errors[6,:,:,:].mean() < 1e-5:\n",
        "    print(datasets[i])\n",
        "    test_errors[6,:,:,:] = test_errors[5,:,:,:] # Move SDRF\n",
        "    test_errors[5,:,:,:] = test_errors[4,:,:,:] # Move GTR\n",
        "    test_errors[4,:,:,:] = test_errors[3,:,:,:] # Move FOSR\n",
        "    test_errors[3,:,:,:] = test_errors[2,:,:,:] # Move RelWire\n",
        "    test_errors[2,:,:,:] = test_errors[1,:,:,:] # Move Empty\n",
        "\n",
        "    val_errors[6,:,:,:] = val_errors[5,:,:,:] # Move SDRF\n",
        "    val_errors[5,:,:,:] = val_errors[4,:,:,:] # Move GTR\n",
        "    val_errors[4,:,:,:] = val_errors[3,:,:,:] # Move FOSR\n",
        "    val_errors[3,:,:,:] = val_errors[2,:,:,:] # Move RelWire\n",
        "    val_errors[2,:,:,:] = val_errors[1,:,:,:] # Move Empty\n",
        "    if i == 0:\n",
        "      val_errors[1,:,:,:] = 100\n",
        "      test_errors[1,:,:,:] = 100\n",
        "    else:\n",
        "      val_errors[1,:,:,:] = 0\n",
        "      test_errors[1,:,:,:] = 0\n",
        "  desc = descending[i]\n",
        "  best_test_error = best_val(val_errors, test_errors, desc)\n",
        "  mean_ranks[i,:] = mean_rank(best_test_error, desc)"
      ],
      "metadata": {
        "colab": {
          "base_uri": "https://localhost:8080/"
        },
        "id": "AK9HQOV3nfeJ",
        "outputId": "c2844cf5-94a1-41b9-8c8b-1b8b6fa57f23"
      },
      "execution_count": null,
      "outputs": [
        {
          "output_type": "stream",
          "name": "stdout",
          "text": [
            "PeptidesStruct\n",
            "Reddit\n",
            "Collab\n"
          ]
        }
      ]
    },
    {
      "cell_type": "code",
      "source": [
        "import torch\n",
        "import numpy as np"
      ],
      "metadata": {
        "id": "ZrY023_yb7HT"
      },
      "execution_count": null,
      "outputs": []
    },
    {
      "cell_type": "code",
      "source": [
        "from google.colab import drive\n",
        "drive.mount('/content/drive')"
      ],
      "metadata": {
        "colab": {
          "base_uri": "https://localhost:8080/"
        },
        "id": "yqYuYjUSb_01",
        "outputId": "68f7e13c-67df-42e8-f0f2-883512c0e14a"
      },
      "execution_count": null,
      "outputs": [
        {
          "output_type": "stream",
          "name": "stdout",
          "text": [
            "Mounted at /content/drive\n"
          ]
        }
      ]
    },
    {
      "cell_type": "code",
      "source": [
        "mean_ranks = torch.load(\"./drive/MyDrive/CubeRep-Rewiring/Models/ranks.pt\")"
      ],
      "metadata": {
        "id": "xTS84g4Jwbw1"
      },
      "execution_count": null,
      "outputs": []
    },
    {
      "cell_type": "code",
      "source": [
        "mean_ranks.shape"
      ],
      "metadata": {
        "colab": {
          "base_uri": "https://localhost:8080/"
        },
        "id": "nmeZYCy1czi-",
        "outputId": "48c98e8d-19f4-4b84-94b9-488ffae7d885"
      },
      "execution_count": null,
      "outputs": [
        {
          "output_type": "execute_result",
          "data": {
            "text/plain": [
              "torch.Size([11, 7, 4])"
            ]
          },
          "metadata": {},
          "execution_count": 43
        }
      ]
    },
    {
      "cell_type": "code",
      "source": [
        "means = mean_ranks+1\n",
        "means"
      ],
      "metadata": {
        "colab": {
          "base_uri": "https://localhost:8080/"
        },
        "id": "nVw9KUP6ABIQ",
        "outputId": "45ab714b-7aa7-489c-f34c-fd35d63af04f"
      },
      "execution_count": null,
      "outputs": [
        {
          "output_type": "execute_result",
          "data": {
            "text/plain": [
              "tensor([[5., 7., 6., 3., 2., 1., 4.],\n",
              "        [7., 1., 5., 3., 4., 6., 2.],\n",
              "        [1., 6., 7., 2., 4., 3., 5.],\n",
              "        [3., 5., 7., 2., 1., 4., 6.],\n",
              "        [3., 6., 7., 5., 4., 2., 1.],\n",
              "        [6., 1., 5., 3., 2., 7., 4.],\n",
              "        [1., 7., 2., 3., 6., 5., 4.],\n",
              "        [2., 7., 6., 5., 4., 3., 1.],\n",
              "        [2., 3., 4., 5., 1., 6., 7.],\n",
              "        [2., 7., 6., 3., 5., 1., 4.],\n",
              "        [3., 7., 6., 1., 4., 5., 2.]])"
            ]
          },
          "metadata": {},
          "execution_count": 54
        }
      ]
    },
    {
      "cell_type": "code",
      "source": [
        "means.mean(dim=0)"
      ],
      "metadata": {
        "colab": {
          "base_uri": "https://localhost:8080/"
        },
        "id": "wzVc8Y8Kh7GK",
        "outputId": "7aaa91f8-d0f1-4813-fec0-5fa98a550895"
      },
      "execution_count": null,
      "outputs": [
        {
          "output_type": "execute_result",
          "data": {
            "text/plain": [
              "tensor([3.1818, 5.1818, 5.5455, 3.1818, 3.3636, 3.9091, 3.6364])"
            ]
          },
          "metadata": {},
          "execution_count": 55
        }
      ]
    },
    {
      "cell_type": "code",
      "source": [
        "stds = mean_ranks.std(dim=[-1])/2\n",
        "stds"
      ],
      "metadata": {
        "colab": {
          "base_uri": "https://localhost:8080/"
        },
        "id": "UWnEulm_dSRH",
        "outputId": "021861eb-9cf7-4f38-eebf-91e9f99c4b25"
      },
      "execution_count": null,
      "outputs": [
        {
          "output_type": "execute_result",
          "data": {
            "text/plain": [
              "tensor([[0.0000, 0.0000, 0.0000, 0.2500, 0.2500, 0.0000, 0.0000],\n",
              "        [0.7071, 0.2887, 1.3150, 0.8539, 0.8660, 0.7071, 0.7071],\n",
              "        [0.2500, 0.2500, 0.0000, 0.8539, 0.4787, 0.8539, 0.4787],\n",
              "        [1.2500, 0.8539, 0.2500, 1.1902, 0.5000, 0.7071, 0.4787],\n",
              "        [0.7500, 0.5000, 0.2500, 0.2500, 0.2500, 0.5000, 0.7071],\n",
              "        [0.9465, 0.7071, 1.3769, 0.4082, 0.8539, 1.1087, 0.6455],\n",
              "        [0.8539, 0.0000, 0.0000, 0.6455, 0.8539, 0.6455, 0.9129],\n",
              "        [0.7500, 0.0000, 0.0000, 0.2500, 1.1547, 0.4787, 0.6292],\n",
              "        [1.0308, 1.7321, 1.0000, 1.0308, 0.7500, 0.8539, 0.5000],\n",
              "        [0.7500, 0.0000, 0.0000, 0.7500, 0.4082, 0.8539, 0.8539],\n",
              "        [1.5000, 0.2887, 0.4787, 0.7071, 0.7071, 0.6292, 0.6455]])"
            ]
          },
          "metadata": {},
          "execution_count": 47
        }
      ]
    },
    {
      "cell_type": "code",
      "source": [
        "stds = mean_ranks.std(dim=[-1,-2])/np.sqrt(12)"
      ],
      "metadata": {
        "id": "TIApxzZqADzk"
      },
      "execution_count": null,
      "outputs": []
    },
    {
      "cell_type": "code",
      "source": [
        "archs = [\"GCN\", \"GraphConv\", \"GAT\", \"GIN\"]\n",
        "titles = [\"Dataset\", \"None\", \"Full\", \"Empty\", \"RelWire\", \"FOSR\", \"GTR\", \"SDRF\"]\n",
        "datasets = [\"Peptides\", \"Lipo\", \"BACE\", \"ESOL\", \"Zinc\", \"IMDB\", \"Reddit\", \"Collab\", \"Mutag\", \"Proteins\", \"Enzymes\"]\n",
        "\n",
        "\n",
        "table = \"\\\\toprule \"\n",
        "\n",
        "for i in range(5):\n",
        "  for j in range(8):\n",
        "    if i == 0:\n",
        "      if j == 0:\n",
        "        table = table + \"Archiecture & \"\n",
        "      elif j < 7:\n",
        "        table = table + titles[j] + \" & \"\n",
        "      else:\n",
        "        table = table + titles[j] + \" \\\\\\\\ \\midrule \\n\"\n",
        "    else:\n",
        "      if j == 0:\n",
        "        table = table + archs[i-1] + \" & \"\n",
        "      elif j < 7:\n",
        "        table = table + \"$ \"+f\"{means[i-1,j-1].item():.2f}\"+\" \\pm \"+f\"{stds[i-1,j-1].item():.2f}\"+\" $ & \"\n",
        "      else:\n",
        "        table = table + \"$ \"+f\"{means[i-1,j-1].item():.2f}\"+\" \\pm \"+f\"{stds[i-1,j-1].item():.2f}\"+\" $ \\\\\\\\ \\n\"\n",
        "table = table + \"\\\\bottomrule \"\n",
        "table"
      ],
      "metadata": {
        "colab": {
          "base_uri": "https://localhost:8080/",
          "height": 103
        },
        "id": "LSdy09dHd75v",
        "outputId": "f3c40a11-9677-491d-8138-423155bf6e4e"
      },
      "execution_count": null,
      "outputs": [
        {
          "output_type": "execute_result",
          "data": {
            "text/plain": [
              "'\\\\toprule Archiecture & None & Full & Empty & RelWire & FOSR & GTR & SDRF \\\\\\\\ \\\\midrule \\nGCN & $ 3.58 \\\\pm 0.35 $ & $ 4.79 \\\\pm 0.44 $ & $ 5.73 \\\\pm 0.24 $ & $ 3.12 \\\\pm 0.28 $ & $ 3.97 \\\\pm 0.28 $ & $ 3.21 \\\\pm 0.28 $ & $ 3.61 \\\\pm 0.31 $ \\\\\\\\ \\nGraphConv & $ 3.42 \\\\pm 0.35 $ & $ 5.91 \\\\pm 0.34 $ & $ 5.42 \\\\pm 0.34 $ & $ 3.36 \\\\pm 0.27 $ & $ 3.36 \\\\pm 0.26 $ & $ 2.91 \\\\pm 0.27 $ & $ 3.61 \\\\pm 0.25 $ \\\\\\\\ \\nGAT & $ 3.24 \\\\pm 0.33 $ & $ 4.88 \\\\pm 0.42 $ & $ 5.09 \\\\pm 0.33 $ & $ 4.03 \\\\pm 0.35 $ & $ 3.45 \\\\pm 0.30 $ & $ 3.48 \\\\pm 0.27 $ & $ 3.82 \\\\pm 0.31 $ \\\\\\\\ \\nGIN & $ 3.36 \\\\pm 0.36 $ & $ 5.18 \\\\pm 0.43 $ & $ 5.58 \\\\pm 0.26 $ & $ 3.42 \\\\pm 0.24 $ & $ 3.39 \\\\pm 0.28 $ & $ 3.06 \\\\pm 0.31 $ & $ 4.00 \\\\pm 0.27 $ \\\\\\\\ \\n\\\\bottomrule '"
            ],
            "application/vnd.google.colaboratory.intrinsic+json": {
              "type": "string"
            }
          },
          "metadata": {},
          "execution_count": 35
        }
      ]
    },
    {
      "cell_type": "code",
      "source": [
        "print(table)"
      ],
      "metadata": {
        "colab": {
          "base_uri": "https://localhost:8080/"
        },
        "id": "_7rAwaESemmk",
        "outputId": "63c8dbf8-d844-4dfc-98ce-6d3ac046fc4e"
      },
      "execution_count": null,
      "outputs": [
        {
          "output_type": "stream",
          "name": "stdout",
          "text": [
            "\\toprule Archiecture & None & Full & Empty & RelWire & FOSR & GTR & SDRF \\\\ \\midrule \n",
            "GCN & $ 3.58 \\pm 0.35 $ & $ 4.79 \\pm 0.44 $ & $ 5.73 \\pm 0.24 $ & $ 3.12 \\pm 0.28 $ & $ 3.97 \\pm 0.28 $ & $ 3.21 \\pm 0.28 $ & $ 3.61 \\pm 0.31 $ \\\\ \n",
            "GraphConv & $ 3.42 \\pm 0.35 $ & $ 5.91 \\pm 0.34 $ & $ 5.42 \\pm 0.34 $ & $ 3.36 \\pm 0.27 $ & $ 3.36 \\pm 0.26 $ & $ 2.91 \\pm 0.27 $ & $ 3.61 \\pm 0.25 $ \\\\ \n",
            "GAT & $ 3.24 \\pm 0.33 $ & $ 4.88 \\pm 0.42 $ & $ 5.09 \\pm 0.33 $ & $ 4.03 \\pm 0.35 $ & $ 3.45 \\pm 0.30 $ & $ 3.48 \\pm 0.27 $ & $ 3.82 \\pm 0.31 $ \\\\ \n",
            "GIN & $ 3.36 \\pm 0.36 $ & $ 5.18 \\pm 0.43 $ & $ 5.58 \\pm 0.26 $ & $ 3.42 \\pm 0.24 $ & $ 3.39 \\pm 0.28 $ & $ 3.06 \\pm 0.31 $ & $ 4.00 \\pm 0.27 $ \\\\ \n",
            "\\bottomrule \n"
          ]
        }
      ]
    },
    {
      "cell_type": "code",
      "source": [
        "titles = [\"Dataset\", \"None\", \"Full\", \"Empty\", \"RelWire\", \"FOSR\", \"GTR\", \"SDRF\"]\n",
        "\n",
        "table = \"\\\\toprule \"\n",
        "\n",
        "for i in range(12):\n",
        "  for j in range(8):\n",
        "    if i == 0:\n",
        "      table = table + titles[j]\n",
        "      if j < 7:\n",
        "        table = table + \" & \"\n",
        "      else:\n",
        "        table = table + \" \\\\\\\\ \\midrule \\n\"\n",
        "    else:\n",
        "      if j == 0:\n",
        "        table = table + datasets[i-1] + \" & \"\n",
        "      elif j < 7:\n",
        "        table = table + \"$ \"+f\"{means[i-1,j-1].item():.2f}\"+\" \\pm \"+f\"{stds[i-1,j-1].item():.2f}\"+\" $ & \"\n",
        "      else:\n",
        "        table = table + \"$ \"+f\"{means[i-1,j-1].item():.2f}\"+\" \\pm \"+f\"{stds[i-1,j-1].item():.2f}\"+\" $ \\\\\\\\ \\n\"\n",
        "table = table + \"\\\\bottomrule \"\n",
        "table"
      ],
      "metadata": {
        "colab": {
          "base_uri": "https://localhost:8080/",
          "height": 120
        },
        "id": "FPO5_VnIE4RG",
        "outputId": "db889dd1-d88d-43eb-a2b7-2258cb4164d2"
      },
      "execution_count": null,
      "outputs": [
        {
          "output_type": "execute_result",
          "data": {
            "text/plain": [
              "'\\\\toprule Dataset & None & Full & Empty & RelWire & FOSR & GTR & SDRF \\\\\\\\ \\\\midrule \\nPeptidesStruct & $ 4.00 \\\\pm 0.12 $ & $ 6.00 \\\\pm 0.00 $ & $ 4.92 \\\\pm 0.08 $ & $ 1.58 \\\\pm 0.15 $ & $ 1.42 \\\\pm 0.15 $ & $ 0.00 \\\\pm 0.00 $ & $ 3.08 \\\\pm 0.08 $ \\\\\\\\ \\nLipo & $ 4.92 \\\\pm 0.45 $ & $ 0.67 \\\\pm 0.50 $ & $ 2.08 \\\\pm 0.62 $ & $ 4.00 \\\\pm 0.43 $ & $ 2.58 \\\\pm 0.45 $ & $ 3.67 \\\\pm 0.31 $ & $ 3.08 \\\\pm 0.42 $ \\\\\\\\ \\nBACE & $ 0.92 \\\\pm 0.29 $ & $ 5.42 \\\\pm 0.19 $ & $ 5.50 \\\\pm 0.15 $ & $ 2.83 \\\\pm 0.44 $ & $ 2.17 \\\\pm 0.32 $ & $ 1.58 \\\\pm 0.45 $ & $ 2.58 \\\\pm 0.38 $ \\\\\\\\ \\nesol & $ 2.58 \\\\pm 0.63 $ & $ 3.33 \\\\pm 0.64 $ & $ 5.17 \\\\pm 0.21 $ & $ 2.58 \\\\pm 0.50 $ & $ 1.50 \\\\pm 0.50 $ & $ 1.83 \\\\pm 0.37 $ & $ 4.00 \\\\pm 0.41 $ \\\\\\\\ \\nZinc & $ 1.25 \\\\pm 0.39 $ & $ 5.67 \\\\pm 0.14 $ & $ 5.25 \\\\pm 0.18 $ & $ 3.25 \\\\pm 0.39 $ & $ 2.08 \\\\pm 0.29 $ & $ 2.25 \\\\pm 0.30 $ & $ 1.25 \\\\pm 0.46 $ \\\\\\\\ \\nIMDB/GCN & $ 3.25 \\\\pm 0.57 $ & $ 3.25 \\\\pm 0.59 $ & $ 3.58 \\\\pm 0.58 $ & $ 1.67 \\\\pm 0.50 $ & $ 4.25 \\\\pm 0.46 $ & $ 2.75 \\\\pm 0.69 $ & $ 2.25 \\\\pm 0.45 $ \\\\\\\\ \\nReddit & $ 2.00 \\\\pm 0.46 $ & $ 6.00 \\\\pm 0.00 $ & $ 5.00 \\\\pm 0.00 $ & $ 2.08 \\\\pm 0.45 $ & $ 1.92 \\\\pm 0.38 $ & $ 1.75 \\\\pm 0.35 $ & $ 2.25 \\\\pm 0.46 $ \\\\\\\\ \\nCollab & $ 1.75 \\\\pm 0.45 $ & $ 6.00 \\\\pm 0.00 $ & $ 5.00 \\\\pm 0.00 $ & $ 1.42 \\\\pm 0.40 $ & $ 2.33 \\\\pm 0.45 $ & $ 2.17 \\\\pm 0.32 $ & $ 2.33 \\\\pm 0.43 $ \\\\\\\\ \\nMutag & $ 1.17 \\\\pm 0.58 $ & $ 3.33 \\\\pm 0.70 $ & $ 1.83 \\\\pm 0.42 $ & $ 3.42 \\\\pm 0.53 $ & $ 4.08 \\\\pm 0.36 $ & $ 2.92 \\\\pm 0.51 $ & $ 4.25 \\\\pm 0.41 $ \\\\\\\\ \\nProteins & $ 3.25 \\\\pm 0.39 $ & $ 0.92 \\\\pm 0.56 $ & $ 6.00 \\\\pm 0.00 $ & $ 2.00 \\\\pm 0.35 $ & $ 3.08 \\\\pm 0.42 $ & $ 2.33 \\\\pm 0.40 $ & $ 3.42 \\\\pm 0.51 $ \\\\\\\\ \\nEnzymes & $ 1.33 \\\\pm 0.45 $ & $ 5.50 \\\\pm 0.19 $ & $ 4.67 \\\\pm 0.36 $ & $ 2.50 \\\\pm 0.58 $ & $ 2.58 \\\\pm 0.47 $ & $ 2.58 \\\\pm 0.45 $ & $ 1.83 \\\\pm 0.41 $ \\\\\\\\ \\n\\\\bottomrule '"
            ],
            "application/vnd.google.colaboratory.intrinsic+json": {
              "type": "string"
            }
          },
          "metadata": {},
          "execution_count": 230
        }
      ]
    },
    {
      "cell_type": "code",
      "source": [
        "print(table)"
      ],
      "metadata": {
        "colab": {
          "base_uri": "https://localhost:8080/"
        },
        "id": "9nIHRSh3Gv78",
        "outputId": "53d96f91-0314-4a45-9866-d911fa899504"
      },
      "execution_count": null,
      "outputs": [
        {
          "output_type": "stream",
          "name": "stdout",
          "text": [
            "\\toprule Dataset & None & Full & Empty & RelWire & FOSR & GTR & SDRF \\\\ \\midrule \n",
            "PeptidesStruct & $ 4.00 \\pm 0.12 $ & $ 6.00 \\pm 0.00 $ & $ 4.92 \\pm 0.08 $ & $ 1.58 \\pm 0.15 $ & $ 1.42 \\pm 0.15 $ & $ 0.00 \\pm 0.00 $ & $ 3.08 \\pm 0.08 $ \\\\ \n",
            "Lipo & $ 4.92 \\pm 0.45 $ & $ 0.67 \\pm 0.50 $ & $ 2.08 \\pm 0.62 $ & $ 4.00 \\pm 0.43 $ & $ 2.58 \\pm 0.45 $ & $ 3.67 \\pm 0.31 $ & $ 3.08 \\pm 0.42 $ \\\\ \n",
            "BACE & $ 0.92 \\pm 0.29 $ & $ 5.42 \\pm 0.19 $ & $ 5.50 \\pm 0.15 $ & $ 2.83 \\pm 0.44 $ & $ 2.17 \\pm 0.32 $ & $ 1.58 \\pm 0.45 $ & $ 2.58 \\pm 0.38 $ \\\\ \n",
            "esol & $ 2.58 \\pm 0.63 $ & $ 3.33 \\pm 0.64 $ & $ 5.17 \\pm 0.21 $ & $ 2.58 \\pm 0.50 $ & $ 1.50 \\pm 0.50 $ & $ 1.83 \\pm 0.37 $ & $ 4.00 \\pm 0.41 $ \\\\ \n",
            "Zinc & $ 1.25 \\pm 0.39 $ & $ 5.67 \\pm 0.14 $ & $ 5.25 \\pm 0.18 $ & $ 3.25 \\pm 0.39 $ & $ 2.08 \\pm 0.29 $ & $ 2.25 \\pm 0.30 $ & $ 1.25 \\pm 0.46 $ \\\\ \n",
            "IMDB/GCN & $ 3.25 \\pm 0.57 $ & $ 3.25 \\pm 0.59 $ & $ 3.58 \\pm 0.58 $ & $ 1.67 \\pm 0.50 $ & $ 4.25 \\pm 0.46 $ & $ 2.75 \\pm 0.69 $ & $ 2.25 \\pm 0.45 $ \\\\ \n",
            "Reddit & $ 2.00 \\pm 0.46 $ & $ 6.00 \\pm 0.00 $ & $ 5.00 \\pm 0.00 $ & $ 2.08 \\pm 0.45 $ & $ 1.92 \\pm 0.38 $ & $ 1.75 \\pm 0.35 $ & $ 2.25 \\pm 0.46 $ \\\\ \n",
            "Collab & $ 1.75 \\pm 0.45 $ & $ 6.00 \\pm 0.00 $ & $ 5.00 \\pm 0.00 $ & $ 1.42 \\pm 0.40 $ & $ 2.33 \\pm 0.45 $ & $ 2.17 \\pm 0.32 $ & $ 2.33 \\pm 0.43 $ \\\\ \n",
            "Mutag & $ 1.17 \\pm 0.58 $ & $ 3.33 \\pm 0.70 $ & $ 1.83 \\pm 0.42 $ & $ 3.42 \\pm 0.53 $ & $ 4.08 \\pm 0.36 $ & $ 2.92 \\pm 0.51 $ & $ 4.25 \\pm 0.41 $ \\\\ \n",
            "Proteins & $ 3.25 \\pm 0.39 $ & $ 0.92 \\pm 0.56 $ & $ 6.00 \\pm 0.00 $ & $ 2.00 \\pm 0.35 $ & $ 3.08 \\pm 0.42 $ & $ 2.33 \\pm 0.40 $ & $ 3.42 \\pm 0.51 $ \\\\ \n",
            "Enzymes & $ 1.33 \\pm 0.45 $ & $ 5.50 \\pm 0.19 $ & $ 4.67 \\pm 0.36 $ & $ 2.50 \\pm 0.58 $ & $ 2.58 \\pm 0.47 $ & $ 2.58 \\pm 0.45 $ & $ 1.83 \\pm 0.41 $ \\\\ \n",
            "\\bottomrule \n"
          ]
        }
      ]
    },
    {
      "cell_type": "code",
      "source": [
        "mean_ranks.mean(dim=0)"
      ],
      "metadata": {
        "colab": {
          "base_uri": "https://localhost:8080/"
        },
        "id": "tIEfLH01yr0J",
        "outputId": "056f6bf2-7711-4d3e-db5b-022966948081"
      },
      "execution_count": null,
      "outputs": [
        {
          "output_type": "execute_result",
          "data": {
            "text/plain": [
              "tensor([2.4015, 4.1894, 4.4545, 2.4848, 2.5455, 2.1667, 2.7576])"
            ]
          },
          "metadata": {},
          "execution_count": 196
        }
      ]
    },
    {
      "cell_type": "code",
      "source": [
        "datasets = [\"PeptidesStruct\", \"Lipo\", \"BACE\", \"esol\", \"Zinc\", \"IMDB/GCN\", \"Reddit\", \"Collab\", \"Mutag\", \"Proteins\", \"Enzymes\"]\n",
        "descending = [False, False, False, False, False, True, True, True, True, True, True]\n",
        "\n",
        "mean_ranks_2 = torch.zeros(len(datasets), 7)\n",
        "\n",
        "for i in range(len(datasets)):\n",
        "  path = \"./drive/MyDrive/CubeRep-Rewiring/Models/\"+datasets[i]\n",
        "  train_errors, val_errors, test_errors = torch.load(path+\"/acc.pt\")\n",
        "  if test_errors[6,:,:,:].mean() < 1e-5:\n",
        "    test_errors[6,:,:,:] = test_errors[5,:,:,:] # Move SDRF\n",
        "    test_errors[5,:,:,:] = test_errors[4,:,:,:] # Move GTR\n",
        "    test_errors[4,:,:,:] = test_errors[3,:,:,:] # Move FOSR\n",
        "    test_errors[3,:,:,:] = test_errors[2,:,:,:] # Move RelWire\n",
        "    test_errors[2,:,:,:] = test_errors[1,:,:,:] # Move Empty\n",
        "    if i == 0:\n",
        "      test_errors[1,:,:,:] = 100\n",
        "    else:\n",
        "      test_errors[1,:,:,:] = 0\n",
        "  desc = descending[i]\n",
        "  mean_ranks_2[i,:] = mean_rank(test_errors.mean(dim=-1), desc).mean(dim=[1,2])"
      ],
      "metadata": {
        "id": "r8BDjpelyYYk"
      },
      "execution_count": null,
      "outputs": []
    },
    {
      "cell_type": "code",
      "source": [
        "mean_ranks_2"
      ],
      "metadata": {
        "colab": {
          "base_uri": "https://localhost:8080/"
        },
        "id": "fpNYMWtIyeAS",
        "outputId": "f0676131-ecee-43dc-c210-8fd5b43d75ec"
      },
      "execution_count": null,
      "outputs": [
        {
          "output_type": "execute_result",
          "data": {
            "text/plain": [
              "tensor([[4.0833, 6.0000, 4.9167, 1.4167, 1.6667, 0.0833, 2.8333],\n",
              "        [5.0000, 1.6667, 1.7500, 3.8333, 2.4167, 2.7500, 3.5833],\n",
              "        [0.5833, 5.5000, 5.4167, 3.1667, 2.5000, 1.3333, 2.5000],\n",
              "        [2.6667, 4.0000, 4.5833, 2.3333, 1.7500, 1.6667, 4.0000],\n",
              "        [0.6667, 5.7500, 5.2500, 2.9167, 1.7500, 3.1667, 1.5000],\n",
              "        [2.4167, 3.5000, 3.1667, 1.6667, 3.9167, 2.4167, 3.9167],\n",
              "        [1.8333, 6.0000, 5.0000, 2.3333, 1.8333, 1.5833, 2.4167],\n",
              "        [1.6667, 6.0000, 5.0000, 1.8333, 2.2500, 2.4167, 1.8333],\n",
              "        [1.4167, 4.0833, 1.6667, 3.5000, 3.9167, 2.5833, 3.8333],\n",
              "        [3.7500, 1.0833, 6.0000, 1.7500, 3.0833, 2.1667, 3.1667],\n",
              "        [0.5833, 5.7500, 4.5833, 2.5833, 3.2500, 3.0000, 1.2500]])"
            ]
          },
          "metadata": {},
          "execution_count": 191
        }
      ]
    },
    {
      "cell_type": "code",
      "source": [
        "mean_ranks_2.mean(dim=0)"
      ],
      "metadata": {
        "colab": {
          "base_uri": "https://localhost:8080/"
        },
        "id": "M0elLTKZyqzq",
        "outputId": "3a5fe995-3717-447a-d270-90e381aab7cb"
      },
      "execution_count": null,
      "outputs": [
        {
          "output_type": "execute_result",
          "data": {
            "text/plain": [
              "tensor([2.2424, 4.4848, 4.3030, 2.4848, 2.5758, 2.1061, 2.8030])"
            ]
          },
          "metadata": {},
          "execution_count": 171
        }
      ]
    },
    {
      "cell_type": "code",
      "source": [
        "test_errors.mean(dim=[1,2,3])"
      ],
      "metadata": {
        "colab": {
          "base_uri": "https://localhost:8080/"
        },
        "id": "kDhJhwadnk6a",
        "outputId": "5e97c8c7-6669-4fcf-e643-5253e6833747"
      },
      "execution_count": null,
      "outputs": [
        {
          "output_type": "execute_result",
          "data": {
            "text/plain": [
              "tensor([1.8758e+00, 2.3118e+04, 1.6993e+00, 1.8546e+00, 1.8031e+00, 1.8238e+00,\n",
              "        1.8445e+00])"
            ]
          },
          "metadata": {},
          "execution_count": 106
        }
      ]
    },
    {
      "cell_type": "code",
      "execution_count": null,
      "metadata": {
        "colab": {
          "base_uri": "https://localhost:8080/"
        },
        "id": "m-K9FIP3b7oq",
        "outputId": "e35b624c-2269-4287-c22f-4da69a626cbd"
      },
      "outputs": [
        {
          "output_type": "execute_result",
          "data": {
            "text/plain": [
              "tensor([[-0.1324, -0.1183, -0.0939, -0.0991],\n",
              "        [-0.0757, -0.1013, -0.0985, -0.0898],\n",
              "        [-0.0708, -0.0889, -0.0857, -0.0856]])"
            ]
          },
          "metadata": {},
          "execution_count": 92
        }
      ],
      "source": [
        "print_diff(test_errors,2,0) # None"
      ]
    },
    {
      "cell_type": "code",
      "execution_count": null,
      "metadata": {
        "colab": {
          "base_uri": "https://localhost:8080/"
        },
        "id": "75q41e7DcbJZ",
        "outputId": "368a737f-ae96-4715-b9c7-441e9f50cc0e"
      },
      "outputs": [
        {
          "output_type": "execute_result",
          "data": {
            "text/plain": [
              "tensor([[-0.1110, -0.2818, -0.1832, -0.1660],\n",
              "        [-0.1074, -0.1986, -0.1456, -0.1961],\n",
              "        [-0.1110, -0.1823, -0.1384, -0.2362]])"
            ]
          },
          "metadata": {},
          "execution_count": 93
        }
      ],
      "source": [
        "print_diff(test_errors,2,1) # Full"
      ]
    },
    {
      "cell_type": "code",
      "execution_count": null,
      "metadata": {
        "colab": {
          "base_uri": "https://localhost:8080/"
        },
        "id": "VRjAGmznGSQv",
        "outputId": "a435c461-cf07-4167-9ddb-fc0947c46a03"
      },
      "outputs": [
        {
          "output_type": "execute_result",
          "data": {
            "text/plain": [
              "tensor([[ 0.0443, -0.0148,  0.0554, -0.0170],\n",
              "        [ 0.0626, -0.0245,  0.0307, -0.0239],\n",
              "        [ 0.0201, -0.0320,  0.0025, -0.0249]])"
            ]
          },
          "metadata": {},
          "execution_count": 94
        }
      ],
      "source": [
        "print_diff(test_errors,3,2) # Empty"
      ]
    },
    {
      "cell_type": "code",
      "execution_count": null,
      "metadata": {
        "colab": {
          "base_uri": "https://localhost:8080/"
        },
        "id": "s6QBC2cFccsT",
        "outputId": "ee74ce11-a25a-4b31-b30c-091f88eaed8f"
      },
      "outputs": [
        {
          "output_type": "execute_result",
          "data": {
            "text/plain": [
              "tensor([[-0.0443,  0.0148, -0.0554,  0.0170],\n",
              "        [-0.0626,  0.0245, -0.0307,  0.0239],\n",
              "        [-0.0201,  0.0320, -0.0025,  0.0249]])"
            ]
          },
          "metadata": {},
          "execution_count": 95
        }
      ],
      "source": [
        "print_diff(test_errors,2,3) # FOSR"
      ]
    },
    {
      "cell_type": "code",
      "execution_count": null,
      "metadata": {
        "colab": {
          "base_uri": "https://localhost:8080/"
        },
        "id": "Qo-URAx_cdg7",
        "outputId": "078e1abd-97cc-4a5d-e9b2-c4fd0d2c7444"
      },
      "outputs": [
        {
          "output_type": "execute_result",
          "data": {
            "text/plain": [
              "tensor([[ 0.0086,  0.0844, -0.0220,  0.0763],\n",
              "        [ 0.0405,  0.0832,  0.0197,  0.0877],\n",
              "        [ 0.0481,  0.0896,  0.0291,  0.0821]])"
            ]
          },
          "metadata": {},
          "execution_count": 96
        }
      ],
      "source": [
        "print_diff(test_errors,2,4) # GTR"
      ]
    },
    {
      "cell_type": "code",
      "execution_count": null,
      "metadata": {
        "colab": {
          "base_uri": "https://localhost:8080/"
        },
        "id": "Czzo4IoBceQ1",
        "outputId": "2d480264-d9c0-4eff-b151-898a0b72f658"
      },
      "outputs": [
        {
          "output_type": "execute_result",
          "data": {
            "text/plain": [
              "tensor([[-0.0420, -0.0634, -0.0750, -0.0490],\n",
              "        [-0.0725, -0.0484, -0.0872, -0.0407],\n",
              "        [-0.0169, -0.0390, -0.0324, -0.0365]])"
            ]
          },
          "metadata": {},
          "execution_count": 97
        }
      ],
      "source": [
        "print_diff(test_errors,2,5) # SDRF"
      ]
    },
    {
      "cell_type": "code",
      "execution_count": null,
      "metadata": {
        "colab": {
          "base_uri": "https://localhost:8080/"
        },
        "id": "fF3ya5EjcfCV",
        "outputId": "65d806a4-3e21-460d-9a68-fecc3167b30e"
      },
      "outputs": [
        {
          "data": {
            "text/plain": [
              "tensor([[0.2393, 0.2159, 0.2270, 0.2286],\n",
              "        [0.2334, 0.1902, 0.2203, 0.2226],\n",
              "        [0.2293, 0.1891, 0.2148, 0.2002]])"
            ]
          },
          "execution_count": 154,
          "metadata": {},
          "output_type": "execute_result"
        }
      ],
      "source": [
        "test_errors[3,:,:,:].mean(dim=-1)"
      ]
    },
    {
      "cell_type": "code",
      "execution_count": null,
      "metadata": {
        "id": "7cYMq7rHhTCK"
      },
      "outputs": [],
      "source": []
    }
  ],
  "metadata": {
    "accelerator": "GPU",
    "colab": {
      "machine_shape": "hm",
      "provenance": []
    },
    "kernelspec": {
      "display_name": "Python 3",
      "name": "python3"
    },
    "language_info": {
      "name": "python"
    }
  },
  "nbformat": 4,
  "nbformat_minor": 0
}